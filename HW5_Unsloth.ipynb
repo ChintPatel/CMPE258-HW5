{
 "cells": [
  {
   "cell_type": "code",
   "execution_count": 6,
   "metadata": {
    "colab": {
     "base_uri": "https://localhost:8080/"
    },
    "id": "8owDHIZHScrR",
    "outputId": "2551c8fd-9fb4-41d3-f2a2-887e20a0f932"
   },
   "outputs": [
    {
     "name": "stdout",
     "output_type": "stream",
     "text": [
      "Requirement already satisfied: pip in /usr/local/lib/python3.11/dist-packages (24.1.2)\n",
      "Collecting pip\n",
      "  Downloading pip-25.1-py3-none-any.whl.metadata (3.6 kB)\n",
      "Downloading pip-25.1-py3-none-any.whl (1.8 MB)\n",
      "\u001b[2K   \u001b[90m━━━━━━━━━━━━━━━━━━━━━━━━━━━━━━━━━━━━━━━━\u001b[0m \u001b[32m1.8/1.8 MB\u001b[0m \u001b[31m29.9 MB/s\u001b[0m eta \u001b[36m0:00:00\u001b[0m\n",
      "\u001b[?25hInstalling collected packages: pip\n",
      "  Attempting uninstall: pip\n",
      "    Found existing installation: pip 24.1.2\n",
      "    Uninstalling pip-24.1.2:\n",
      "      Successfully uninstalled pip-24.1.2\n",
      "Successfully installed pip-25.1\n",
      "Collecting unsloth@ git+https://github.com/unslothai/unsloth.git (from unsloth[colab-new]@ git+https://github.com/unslothai/unsloth.git)\n",
      "  Cloning https://github.com/unslothai/unsloth.git to /tmp/pip-install-orsokgbh/unsloth_a2666812515c46a0ab922d926aaa8fef\n",
      "  Running command git clone --filter=blob:none --quiet https://github.com/unslothai/unsloth.git /tmp/pip-install-orsokgbh/unsloth_a2666812515c46a0ab922d926aaa8fef\n",
      "  Resolved https://github.com/unslothai/unsloth.git to commit 7a8f99e1890213cdd01a3ab6c3e13174a96e8220\n",
      "  Installing build dependencies ... \u001b[?25l\u001b[?25hdone\n",
      "  Getting requirements to build wheel ... \u001b[?25l\u001b[?25hdone\n",
      "  Preparing metadata (pyproject.toml) ... \u001b[?25l\u001b[?25hdone\n",
      "Requirement already satisfied: unsloth_zoo>=2025.4.1 in /usr/local/lib/python3.11/dist-packages (from unsloth@ git+https://github.com/unslothai/unsloth.git->unsloth[colab-new]@ git+https://github.com/unslothai/unsloth.git) (2025.4.1)\n",
      "Requirement already satisfied: packaging in /usr/local/lib/python3.11/dist-packages (from unsloth@ git+https://github.com/unslothai/unsloth.git->unsloth[colab-new]@ git+https://github.com/unslothai/unsloth.git) (24.2)\n",
      "Requirement already satisfied: tyro in /usr/local/lib/python3.11/dist-packages (from unsloth@ git+https://github.com/unslothai/unsloth.git->unsloth[colab-new]@ git+https://github.com/unslothai/unsloth.git) (0.9.19)\n",
      "Requirement already satisfied: transformers!=4.47.0,>=4.46.1 in /usr/local/lib/python3.11/dist-packages (from unsloth@ git+https://github.com/unslothai/unsloth.git->unsloth[colab-new]@ git+https://github.com/unslothai/unsloth.git) (4.51.3)\n",
      "Requirement already satisfied: datasets>=2.16.0 in /usr/local/lib/python3.11/dist-packages (from unsloth@ git+https://github.com/unslothai/unsloth.git->unsloth[colab-new]@ git+https://github.com/unslothai/unsloth.git) (3.5.0)\n",
      "Requirement already satisfied: sentencepiece>=0.2.0 in /usr/local/lib/python3.11/dist-packages (from unsloth@ git+https://github.com/unslothai/unsloth.git->unsloth[colab-new]@ git+https://github.com/unslothai/unsloth.git) (0.2.0)\n",
      "Requirement already satisfied: tqdm in /usr/local/lib/python3.11/dist-packages (from unsloth@ git+https://github.com/unslothai/unsloth.git->unsloth[colab-new]@ git+https://github.com/unslothai/unsloth.git) (4.67.1)\n",
      "Requirement already satisfied: psutil in /usr/local/lib/python3.11/dist-packages (from unsloth@ git+https://github.com/unslothai/unsloth.git->unsloth[colab-new]@ git+https://github.com/unslothai/unsloth.git) (5.9.5)\n",
      "Requirement already satisfied: wheel>=0.42.0 in /usr/local/lib/python3.11/dist-packages (from unsloth@ git+https://github.com/unslothai/unsloth.git->unsloth[colab-new]@ git+https://github.com/unslothai/unsloth.git) (0.45.1)\n",
      "Requirement already satisfied: numpy in /usr/local/lib/python3.11/dist-packages (from unsloth@ git+https://github.com/unslothai/unsloth.git->unsloth[colab-new]@ git+https://github.com/unslothai/unsloth.git) (2.0.2)\n",
      "Requirement already satisfied: protobuf<4.0.0 in /usr/local/lib/python3.11/dist-packages (from unsloth@ git+https://github.com/unslothai/unsloth.git->unsloth[colab-new]@ git+https://github.com/unslothai/unsloth.git) (3.20.3)\n",
      "Requirement already satisfied: huggingface_hub in /usr/local/lib/python3.11/dist-packages (from unsloth@ git+https://github.com/unslothai/unsloth.git->unsloth[colab-new]@ git+https://github.com/unslothai/unsloth.git) (0.30.2)\n",
      "Requirement already satisfied: hf_transfer in /usr/local/lib/python3.11/dist-packages (from unsloth@ git+https://github.com/unslothai/unsloth.git->unsloth[colab-new]@ git+https://github.com/unslothai/unsloth.git) (0.1.9)\n",
      "Requirement already satisfied: bitsandbytes>=0.43.3 in /usr/local/lib/python3.11/dist-packages (from unsloth@ git+https://github.com/unslothai/unsloth.git->unsloth[colab-new]@ git+https://github.com/unslothai/unsloth.git) (0.45.5)\n",
      "Requirement already satisfied: torch<3,>=2.0 in /usr/local/lib/python3.11/dist-packages (from bitsandbytes>=0.43.3->unsloth@ git+https://github.com/unslothai/unsloth.git->unsloth[colab-new]@ git+https://github.com/unslothai/unsloth.git) (2.6.0+cu124)\n",
      "Requirement already satisfied: filelock in /usr/local/lib/python3.11/dist-packages (from torch<3,>=2.0->bitsandbytes>=0.43.3->unsloth@ git+https://github.com/unslothai/unsloth.git->unsloth[colab-new]@ git+https://github.com/unslothai/unsloth.git) (3.18.0)\n",
      "Requirement already satisfied: typing-extensions>=4.10.0 in /usr/local/lib/python3.11/dist-packages (from torch<3,>=2.0->bitsandbytes>=0.43.3->unsloth@ git+https://github.com/unslothai/unsloth.git->unsloth[colab-new]@ git+https://github.com/unslothai/unsloth.git) (4.13.2)\n",
      "Requirement already satisfied: networkx in /usr/local/lib/python3.11/dist-packages (from torch<3,>=2.0->bitsandbytes>=0.43.3->unsloth@ git+https://github.com/unslothai/unsloth.git->unsloth[colab-new]@ git+https://github.com/unslothai/unsloth.git) (3.4.2)\n",
      "Requirement already satisfied: jinja2 in /usr/local/lib/python3.11/dist-packages (from torch<3,>=2.0->bitsandbytes>=0.43.3->unsloth@ git+https://github.com/unslothai/unsloth.git->unsloth[colab-new]@ git+https://github.com/unslothai/unsloth.git) (3.1.6)\n",
      "Requirement already satisfied: fsspec in /usr/local/lib/python3.11/dist-packages (from torch<3,>=2.0->bitsandbytes>=0.43.3->unsloth@ git+https://github.com/unslothai/unsloth.git->unsloth[colab-new]@ git+https://github.com/unslothai/unsloth.git) (2024.12.0)\n",
      "Requirement already satisfied: nvidia-cuda-nvrtc-cu12==12.4.127 in /usr/local/lib/python3.11/dist-packages (from torch<3,>=2.0->bitsandbytes>=0.43.3->unsloth@ git+https://github.com/unslothai/unsloth.git->unsloth[colab-new]@ git+https://github.com/unslothai/unsloth.git) (12.4.127)\n",
      "Requirement already satisfied: nvidia-cuda-runtime-cu12==12.4.127 in /usr/local/lib/python3.11/dist-packages (from torch<3,>=2.0->bitsandbytes>=0.43.3->unsloth@ git+https://github.com/unslothai/unsloth.git->unsloth[colab-new]@ git+https://github.com/unslothai/unsloth.git) (12.4.127)\n",
      "Requirement already satisfied: nvidia-cuda-cupti-cu12==12.4.127 in /usr/local/lib/python3.11/dist-packages (from torch<3,>=2.0->bitsandbytes>=0.43.3->unsloth@ git+https://github.com/unslothai/unsloth.git->unsloth[colab-new]@ git+https://github.com/unslothai/unsloth.git) (12.4.127)\n",
      "Requirement already satisfied: nvidia-cudnn-cu12==9.1.0.70 in /usr/local/lib/python3.11/dist-packages (from torch<3,>=2.0->bitsandbytes>=0.43.3->unsloth@ git+https://github.com/unslothai/unsloth.git->unsloth[colab-new]@ git+https://github.com/unslothai/unsloth.git) (9.1.0.70)\n",
      "Requirement already satisfied: nvidia-cublas-cu12==12.4.5.8 in /usr/local/lib/python3.11/dist-packages (from torch<3,>=2.0->bitsandbytes>=0.43.3->unsloth@ git+https://github.com/unslothai/unsloth.git->unsloth[colab-new]@ git+https://github.com/unslothai/unsloth.git) (12.4.5.8)\n",
      "Requirement already satisfied: nvidia-cufft-cu12==11.2.1.3 in /usr/local/lib/python3.11/dist-packages (from torch<3,>=2.0->bitsandbytes>=0.43.3->unsloth@ git+https://github.com/unslothai/unsloth.git->unsloth[colab-new]@ git+https://github.com/unslothai/unsloth.git) (11.2.1.3)\n",
      "Requirement already satisfied: nvidia-curand-cu12==10.3.5.147 in /usr/local/lib/python3.11/dist-packages (from torch<3,>=2.0->bitsandbytes>=0.43.3->unsloth@ git+https://github.com/unslothai/unsloth.git->unsloth[colab-new]@ git+https://github.com/unslothai/unsloth.git) (10.3.5.147)\n",
      "Requirement already satisfied: nvidia-cusolver-cu12==11.6.1.9 in /usr/local/lib/python3.11/dist-packages (from torch<3,>=2.0->bitsandbytes>=0.43.3->unsloth@ git+https://github.com/unslothai/unsloth.git->unsloth[colab-new]@ git+https://github.com/unslothai/unsloth.git) (11.6.1.9)\n",
      "Requirement already satisfied: nvidia-cusparse-cu12==12.3.1.170 in /usr/local/lib/python3.11/dist-packages (from torch<3,>=2.0->bitsandbytes>=0.43.3->unsloth@ git+https://github.com/unslothai/unsloth.git->unsloth[colab-new]@ git+https://github.com/unslothai/unsloth.git) (12.3.1.170)\n",
      "Requirement already satisfied: nvidia-cusparselt-cu12==0.6.2 in /usr/local/lib/python3.11/dist-packages (from torch<3,>=2.0->bitsandbytes>=0.43.3->unsloth@ git+https://github.com/unslothai/unsloth.git->unsloth[colab-new]@ git+https://github.com/unslothai/unsloth.git) (0.6.2)\n",
      "Requirement already satisfied: nvidia-nccl-cu12==2.21.5 in /usr/local/lib/python3.11/dist-packages (from torch<3,>=2.0->bitsandbytes>=0.43.3->unsloth@ git+https://github.com/unslothai/unsloth.git->unsloth[colab-new]@ git+https://github.com/unslothai/unsloth.git) (2.21.5)\n",
      "Requirement already satisfied: nvidia-nvtx-cu12==12.4.127 in /usr/local/lib/python3.11/dist-packages (from torch<3,>=2.0->bitsandbytes>=0.43.3->unsloth@ git+https://github.com/unslothai/unsloth.git->unsloth[colab-new]@ git+https://github.com/unslothai/unsloth.git) (12.4.127)\n",
      "Requirement already satisfied: nvidia-nvjitlink-cu12==12.4.127 in /usr/local/lib/python3.11/dist-packages (from torch<3,>=2.0->bitsandbytes>=0.43.3->unsloth@ git+https://github.com/unslothai/unsloth.git->unsloth[colab-new]@ git+https://github.com/unslothai/unsloth.git) (12.4.127)\n",
      "Requirement already satisfied: triton==3.2.0 in /usr/local/lib/python3.11/dist-packages (from torch<3,>=2.0->bitsandbytes>=0.43.3->unsloth@ git+https://github.com/unslothai/unsloth.git->unsloth[colab-new]@ git+https://github.com/unslothai/unsloth.git) (3.2.0)\n",
      "Requirement already satisfied: sympy==1.13.1 in /usr/local/lib/python3.11/dist-packages (from torch<3,>=2.0->bitsandbytes>=0.43.3->unsloth@ git+https://github.com/unslothai/unsloth.git->unsloth[colab-new]@ git+https://github.com/unslothai/unsloth.git) (1.13.1)\n",
      "Requirement already satisfied: mpmath<1.4,>=1.1.0 in /usr/local/lib/python3.11/dist-packages (from sympy==1.13.1->torch<3,>=2.0->bitsandbytes>=0.43.3->unsloth@ git+https://github.com/unslothai/unsloth.git->unsloth[colab-new]@ git+https://github.com/unslothai/unsloth.git) (1.3.0)\n",
      "Requirement already satisfied: pyarrow>=15.0.0 in /usr/local/lib/python3.11/dist-packages (from datasets>=2.16.0->unsloth@ git+https://github.com/unslothai/unsloth.git->unsloth[colab-new]@ git+https://github.com/unslothai/unsloth.git) (18.1.0)\n",
      "Requirement already satisfied: dill<0.3.9,>=0.3.0 in /usr/local/lib/python3.11/dist-packages (from datasets>=2.16.0->unsloth@ git+https://github.com/unslothai/unsloth.git->unsloth[colab-new]@ git+https://github.com/unslothai/unsloth.git) (0.3.8)\n",
      "Requirement already satisfied: pandas in /usr/local/lib/python3.11/dist-packages (from datasets>=2.16.0->unsloth@ git+https://github.com/unslothai/unsloth.git->unsloth[colab-new]@ git+https://github.com/unslothai/unsloth.git) (2.2.2)\n",
      "Requirement already satisfied: requests>=2.32.2 in /usr/local/lib/python3.11/dist-packages (from datasets>=2.16.0->unsloth@ git+https://github.com/unslothai/unsloth.git->unsloth[colab-new]@ git+https://github.com/unslothai/unsloth.git) (2.32.3)\n",
      "Requirement already satisfied: xxhash in /usr/local/lib/python3.11/dist-packages (from datasets>=2.16.0->unsloth@ git+https://github.com/unslothai/unsloth.git->unsloth[colab-new]@ git+https://github.com/unslothai/unsloth.git) (3.5.0)\n",
      "Requirement already satisfied: multiprocess<0.70.17 in /usr/local/lib/python3.11/dist-packages (from datasets>=2.16.0->unsloth@ git+https://github.com/unslothai/unsloth.git->unsloth[colab-new]@ git+https://github.com/unslothai/unsloth.git) (0.70.16)\n",
      "Requirement already satisfied: aiohttp in /usr/local/lib/python3.11/dist-packages (from datasets>=2.16.0->unsloth@ git+https://github.com/unslothai/unsloth.git->unsloth[colab-new]@ git+https://github.com/unslothai/unsloth.git) (3.11.15)\n",
      "Requirement already satisfied: pyyaml>=5.1 in /usr/local/lib/python3.11/dist-packages (from datasets>=2.16.0->unsloth@ git+https://github.com/unslothai/unsloth.git->unsloth[colab-new]@ git+https://github.com/unslothai/unsloth.git) (6.0.2)\n",
      "Requirement already satisfied: aiohappyeyeballs>=2.3.0 in /usr/local/lib/python3.11/dist-packages (from aiohttp->datasets>=2.16.0->unsloth@ git+https://github.com/unslothai/unsloth.git->unsloth[colab-new]@ git+https://github.com/unslothai/unsloth.git) (2.6.1)\n",
      "Requirement already satisfied: aiosignal>=1.1.2 in /usr/local/lib/python3.11/dist-packages (from aiohttp->datasets>=2.16.0->unsloth@ git+https://github.com/unslothai/unsloth.git->unsloth[colab-new]@ git+https://github.com/unslothai/unsloth.git) (1.3.2)\n",
      "Requirement already satisfied: attrs>=17.3.0 in /usr/local/lib/python3.11/dist-packages (from aiohttp->datasets>=2.16.0->unsloth@ git+https://github.com/unslothai/unsloth.git->unsloth[colab-new]@ git+https://github.com/unslothai/unsloth.git) (25.3.0)\n",
      "Requirement already satisfied: frozenlist>=1.1.1 in /usr/local/lib/python3.11/dist-packages (from aiohttp->datasets>=2.16.0->unsloth@ git+https://github.com/unslothai/unsloth.git->unsloth[colab-new]@ git+https://github.com/unslothai/unsloth.git) (1.6.0)\n",
      "Requirement already satisfied: multidict<7.0,>=4.5 in /usr/local/lib/python3.11/dist-packages (from aiohttp->datasets>=2.16.0->unsloth@ git+https://github.com/unslothai/unsloth.git->unsloth[colab-new]@ git+https://github.com/unslothai/unsloth.git) (6.4.3)\n",
      "Requirement already satisfied: propcache>=0.2.0 in /usr/local/lib/python3.11/dist-packages (from aiohttp->datasets>=2.16.0->unsloth@ git+https://github.com/unslothai/unsloth.git->unsloth[colab-new]@ git+https://github.com/unslothai/unsloth.git) (0.3.1)\n",
      "Requirement already satisfied: yarl<2.0,>=1.17.0 in /usr/local/lib/python3.11/dist-packages (from aiohttp->datasets>=2.16.0->unsloth@ git+https://github.com/unslothai/unsloth.git->unsloth[colab-new]@ git+https://github.com/unslothai/unsloth.git) (1.20.0)\n",
      "Requirement already satisfied: idna>=2.0 in /usr/local/lib/python3.11/dist-packages (from yarl<2.0,>=1.17.0->aiohttp->datasets>=2.16.0->unsloth@ git+https://github.com/unslothai/unsloth.git->unsloth[colab-new]@ git+https://github.com/unslothai/unsloth.git) (3.10)\n",
      "Requirement already satisfied: charset-normalizer<4,>=2 in /usr/local/lib/python3.11/dist-packages (from requests>=2.32.2->datasets>=2.16.0->unsloth@ git+https://github.com/unslothai/unsloth.git->unsloth[colab-new]@ git+https://github.com/unslothai/unsloth.git) (3.4.1)\n",
      "Requirement already satisfied: urllib3<3,>=1.21.1 in /usr/local/lib/python3.11/dist-packages (from requests>=2.32.2->datasets>=2.16.0->unsloth@ git+https://github.com/unslothai/unsloth.git->unsloth[colab-new]@ git+https://github.com/unslothai/unsloth.git) (2.3.0)\n",
      "Requirement already satisfied: certifi>=2017.4.17 in /usr/local/lib/python3.11/dist-packages (from requests>=2.32.2->datasets>=2.16.0->unsloth@ git+https://github.com/unslothai/unsloth.git->unsloth[colab-new]@ git+https://github.com/unslothai/unsloth.git) (2025.1.31)\n",
      "Requirement already satisfied: regex!=2019.12.17 in /usr/local/lib/python3.11/dist-packages (from transformers!=4.47.0,>=4.46.1->unsloth@ git+https://github.com/unslothai/unsloth.git->unsloth[colab-new]@ git+https://github.com/unslothai/unsloth.git) (2024.11.6)\n",
      "Requirement already satisfied: tokenizers<0.22,>=0.21 in /usr/local/lib/python3.11/dist-packages (from transformers!=4.47.0,>=4.46.1->unsloth@ git+https://github.com/unslothai/unsloth.git->unsloth[colab-new]@ git+https://github.com/unslothai/unsloth.git) (0.21.1)\n",
      "Requirement already satisfied: safetensors>=0.4.3 in /usr/local/lib/python3.11/dist-packages (from transformers!=4.47.0,>=4.46.1->unsloth@ git+https://github.com/unslothai/unsloth.git->unsloth[colab-new]@ git+https://github.com/unslothai/unsloth.git) (0.5.3)\n",
      "Requirement already satisfied: accelerate>=0.34.1 in /usr/local/lib/python3.11/dist-packages (from unsloth_zoo>=2025.4.1->unsloth@ git+https://github.com/unslothai/unsloth.git->unsloth[colab-new]@ git+https://github.com/unslothai/unsloth.git) (1.5.2)\n",
      "Requirement already satisfied: trl!=0.15.0,!=0.9.0,!=0.9.1,!=0.9.2,!=0.9.3,<=0.15.2,>=0.7.9 in /usr/local/lib/python3.11/dist-packages (from unsloth_zoo>=2025.4.1->unsloth@ git+https://github.com/unslothai/unsloth.git->unsloth[colab-new]@ git+https://github.com/unslothai/unsloth.git) (0.15.2)\n",
      "Requirement already satisfied: peft!=0.11.0,>=0.7.1 in /usr/local/lib/python3.11/dist-packages (from unsloth_zoo>=2025.4.1->unsloth@ git+https://github.com/unslothai/unsloth.git->unsloth[colab-new]@ git+https://github.com/unslothai/unsloth.git) (0.14.0)\n",
      "Requirement already satisfied: cut_cross_entropy in /usr/local/lib/python3.11/dist-packages (from unsloth_zoo>=2025.4.1->unsloth@ git+https://github.com/unslothai/unsloth.git->unsloth[colab-new]@ git+https://github.com/unslothai/unsloth.git) (25.1.1)\n",
      "Requirement already satisfied: pillow in /usr/local/lib/python3.11/dist-packages (from unsloth_zoo>=2025.4.1->unsloth@ git+https://github.com/unslothai/unsloth.git->unsloth[colab-new]@ git+https://github.com/unslothai/unsloth.git) (11.1.0)\n",
      "Requirement already satisfied: rich in /usr/local/lib/python3.11/dist-packages (from trl!=0.15.0,!=0.9.0,!=0.9.1,!=0.9.2,!=0.9.3,<=0.15.2,>=0.7.9->unsloth_zoo>=2025.4.1->unsloth@ git+https://github.com/unslothai/unsloth.git->unsloth[colab-new]@ git+https://github.com/unslothai/unsloth.git) (13.9.4)\n",
      "Requirement already satisfied: MarkupSafe>=2.0 in /usr/local/lib/python3.11/dist-packages (from jinja2->torch<3,>=2.0->bitsandbytes>=0.43.3->unsloth@ git+https://github.com/unslothai/unsloth.git->unsloth[colab-new]@ git+https://github.com/unslothai/unsloth.git) (3.0.2)\n",
      "Requirement already satisfied: python-dateutil>=2.8.2 in /usr/local/lib/python3.11/dist-packages (from pandas->datasets>=2.16.0->unsloth@ git+https://github.com/unslothai/unsloth.git->unsloth[colab-new]@ git+https://github.com/unslothai/unsloth.git) (2.8.2)\n",
      "Requirement already satisfied: pytz>=2020.1 in /usr/local/lib/python3.11/dist-packages (from pandas->datasets>=2.16.0->unsloth@ git+https://github.com/unslothai/unsloth.git->unsloth[colab-new]@ git+https://github.com/unslothai/unsloth.git) (2025.2)\n",
      "Requirement already satisfied: tzdata>=2022.7 in /usr/local/lib/python3.11/dist-packages (from pandas->datasets>=2.16.0->unsloth@ git+https://github.com/unslothai/unsloth.git->unsloth[colab-new]@ git+https://github.com/unslothai/unsloth.git) (2025.2)\n",
      "Requirement already satisfied: six>=1.5 in /usr/local/lib/python3.11/dist-packages (from python-dateutil>=2.8.2->pandas->datasets>=2.16.0->unsloth@ git+https://github.com/unslothai/unsloth.git->unsloth[colab-new]@ git+https://github.com/unslothai/unsloth.git) (1.17.0)\n",
      "Requirement already satisfied: markdown-it-py>=2.2.0 in /usr/local/lib/python3.11/dist-packages (from rich->trl!=0.15.0,!=0.9.0,!=0.9.1,!=0.9.2,!=0.9.3,<=0.15.2,>=0.7.9->unsloth_zoo>=2025.4.1->unsloth@ git+https://github.com/unslothai/unsloth.git->unsloth[colab-new]@ git+https://github.com/unslothai/unsloth.git) (3.0.0)\n",
      "Requirement already satisfied: pygments<3.0.0,>=2.13.0 in /usr/local/lib/python3.11/dist-packages (from rich->trl!=0.15.0,!=0.9.0,!=0.9.1,!=0.9.2,!=0.9.3,<=0.15.2,>=0.7.9->unsloth_zoo>=2025.4.1->unsloth@ git+https://github.com/unslothai/unsloth.git->unsloth[colab-new]@ git+https://github.com/unslothai/unsloth.git) (2.18.0)\n",
      "Requirement already satisfied: mdurl~=0.1 in /usr/local/lib/python3.11/dist-packages (from markdown-it-py>=2.2.0->rich->trl!=0.15.0,!=0.9.0,!=0.9.1,!=0.9.2,!=0.9.3,<=0.15.2,>=0.7.9->unsloth_zoo>=2025.4.1->unsloth@ git+https://github.com/unslothai/unsloth.git->unsloth[colab-new]@ git+https://github.com/unslothai/unsloth.git) (0.1.2)\n",
      "Requirement already satisfied: docstring-parser>=0.15 in /usr/local/lib/python3.11/dist-packages (from tyro->unsloth@ git+https://github.com/unslothai/unsloth.git->unsloth[colab-new]@ git+https://github.com/unslothai/unsloth.git) (0.16)\n",
      "Requirement already satisfied: shtab>=1.5.6 in /usr/local/lib/python3.11/dist-packages (from tyro->unsloth@ git+https://github.com/unslothai/unsloth.git->unsloth[colab-new]@ git+https://github.com/unslothai/unsloth.git) (1.7.2)\n",
      "Requirement already satisfied: typeguard>=4.0.0 in /usr/local/lib/python3.11/dist-packages (from tyro->unsloth@ git+https://github.com/unslothai/unsloth.git->unsloth[colab-new]@ git+https://github.com/unslothai/unsloth.git) (4.4.2)\n",
      "Requirement already satisfied: trl in /usr/local/lib/python3.11/dist-packages (0.15.2)\n",
      "Requirement already satisfied: accelerate in /usr/local/lib/python3.11/dist-packages (1.5.2)\n",
      "Requirement already satisfied: bitsandbytes in /usr/local/lib/python3.11/dist-packages (0.45.5)\n",
      "Requirement already satisfied: datasets in /usr/local/lib/python3.11/dist-packages (3.5.0)\n",
      "Requirement already satisfied: rich in /usr/local/lib/python3.11/dist-packages (from trl) (13.9.4)\n",
      "Requirement already satisfied: transformers>=4.46.0 in /usr/local/lib/python3.11/dist-packages (from trl) (4.51.3)\n",
      "Requirement already satisfied: numpy<3.0.0,>=1.17 in /usr/local/lib/python3.11/dist-packages (from accelerate) (2.0.2)\n",
      "Requirement already satisfied: packaging>=20.0 in /usr/local/lib/python3.11/dist-packages (from accelerate) (24.2)\n",
      "Requirement already satisfied: psutil in /usr/local/lib/python3.11/dist-packages (from accelerate) (5.9.5)\n",
      "Requirement already satisfied: pyyaml in /usr/local/lib/python3.11/dist-packages (from accelerate) (6.0.2)\n",
      "Requirement already satisfied: torch>=2.0.0 in /usr/local/lib/python3.11/dist-packages (from accelerate) (2.6.0+cu124)\n",
      "Requirement already satisfied: huggingface-hub>=0.21.0 in /usr/local/lib/python3.11/dist-packages (from accelerate) (0.30.2)\n",
      "Requirement already satisfied: safetensors>=0.4.3 in /usr/local/lib/python3.11/dist-packages (from accelerate) (0.5.3)\n",
      "Requirement already satisfied: filelock in /usr/local/lib/python3.11/dist-packages (from torch>=2.0.0->accelerate) (3.18.0)\n",
      "Requirement already satisfied: typing-extensions>=4.10.0 in /usr/local/lib/python3.11/dist-packages (from torch>=2.0.0->accelerate) (4.13.2)\n",
      "Requirement already satisfied: networkx in /usr/local/lib/python3.11/dist-packages (from torch>=2.0.0->accelerate) (3.4.2)\n",
      "Requirement already satisfied: jinja2 in /usr/local/lib/python3.11/dist-packages (from torch>=2.0.0->accelerate) (3.1.6)\n",
      "Requirement already satisfied: fsspec in /usr/local/lib/python3.11/dist-packages (from torch>=2.0.0->accelerate) (2024.12.0)\n",
      "Requirement already satisfied: nvidia-cuda-nvrtc-cu12==12.4.127 in /usr/local/lib/python3.11/dist-packages (from torch>=2.0.0->accelerate) (12.4.127)\n",
      "Requirement already satisfied: nvidia-cuda-runtime-cu12==12.4.127 in /usr/local/lib/python3.11/dist-packages (from torch>=2.0.0->accelerate) (12.4.127)\n",
      "Requirement already satisfied: nvidia-cuda-cupti-cu12==12.4.127 in /usr/local/lib/python3.11/dist-packages (from torch>=2.0.0->accelerate) (12.4.127)\n",
      "Requirement already satisfied: nvidia-cudnn-cu12==9.1.0.70 in /usr/local/lib/python3.11/dist-packages (from torch>=2.0.0->accelerate) (9.1.0.70)\n",
      "Requirement already satisfied: nvidia-cublas-cu12==12.4.5.8 in /usr/local/lib/python3.11/dist-packages (from torch>=2.0.0->accelerate) (12.4.5.8)\n",
      "Requirement already satisfied: nvidia-cufft-cu12==11.2.1.3 in /usr/local/lib/python3.11/dist-packages (from torch>=2.0.0->accelerate) (11.2.1.3)\n",
      "Requirement already satisfied: nvidia-curand-cu12==10.3.5.147 in /usr/local/lib/python3.11/dist-packages (from torch>=2.0.0->accelerate) (10.3.5.147)\n",
      "Requirement already satisfied: nvidia-cusolver-cu12==11.6.1.9 in /usr/local/lib/python3.11/dist-packages (from torch>=2.0.0->accelerate) (11.6.1.9)\n",
      "Requirement already satisfied: nvidia-cusparse-cu12==12.3.1.170 in /usr/local/lib/python3.11/dist-packages (from torch>=2.0.0->accelerate) (12.3.1.170)\n",
      "Requirement already satisfied: nvidia-cusparselt-cu12==0.6.2 in /usr/local/lib/python3.11/dist-packages (from torch>=2.0.0->accelerate) (0.6.2)\n",
      "Requirement already satisfied: nvidia-nccl-cu12==2.21.5 in /usr/local/lib/python3.11/dist-packages (from torch>=2.0.0->accelerate) (2.21.5)\n",
      "Requirement already satisfied: nvidia-nvtx-cu12==12.4.127 in /usr/local/lib/python3.11/dist-packages (from torch>=2.0.0->accelerate) (12.4.127)\n",
      "Requirement already satisfied: nvidia-nvjitlink-cu12==12.4.127 in /usr/local/lib/python3.11/dist-packages (from torch>=2.0.0->accelerate) (12.4.127)\n",
      "Requirement already satisfied: triton==3.2.0 in /usr/local/lib/python3.11/dist-packages (from torch>=2.0.0->accelerate) (3.2.0)\n",
      "Requirement already satisfied: sympy==1.13.1 in /usr/local/lib/python3.11/dist-packages (from torch>=2.0.0->accelerate) (1.13.1)\n",
      "Requirement already satisfied: mpmath<1.4,>=1.1.0 in /usr/local/lib/python3.11/dist-packages (from sympy==1.13.1->torch>=2.0.0->accelerate) (1.3.0)\n",
      "Requirement already satisfied: pyarrow>=15.0.0 in /usr/local/lib/python3.11/dist-packages (from datasets) (18.1.0)\n",
      "Requirement already satisfied: dill<0.3.9,>=0.3.0 in /usr/local/lib/python3.11/dist-packages (from datasets) (0.3.8)\n",
      "Requirement already satisfied: pandas in /usr/local/lib/python3.11/dist-packages (from datasets) (2.2.2)\n",
      "Requirement already satisfied: requests>=2.32.2 in /usr/local/lib/python3.11/dist-packages (from datasets) (2.32.3)\n",
      "Requirement already satisfied: tqdm>=4.66.3 in /usr/local/lib/python3.11/dist-packages (from datasets) (4.67.1)\n",
      "Requirement already satisfied: xxhash in /usr/local/lib/python3.11/dist-packages (from datasets) (3.5.0)\n",
      "Requirement already satisfied: multiprocess<0.70.17 in /usr/local/lib/python3.11/dist-packages (from datasets) (0.70.16)\n",
      "Requirement already satisfied: aiohttp in /usr/local/lib/python3.11/dist-packages (from datasets) (3.11.15)\n",
      "Requirement already satisfied: aiohappyeyeballs>=2.3.0 in /usr/local/lib/python3.11/dist-packages (from aiohttp->datasets) (2.6.1)\n",
      "Requirement already satisfied: aiosignal>=1.1.2 in /usr/local/lib/python3.11/dist-packages (from aiohttp->datasets) (1.3.2)\n",
      "Requirement already satisfied: attrs>=17.3.0 in /usr/local/lib/python3.11/dist-packages (from aiohttp->datasets) (25.3.0)\n",
      "Requirement already satisfied: frozenlist>=1.1.1 in /usr/local/lib/python3.11/dist-packages (from aiohttp->datasets) (1.6.0)\n",
      "Requirement already satisfied: multidict<7.0,>=4.5 in /usr/local/lib/python3.11/dist-packages (from aiohttp->datasets) (6.4.3)\n",
      "Requirement already satisfied: propcache>=0.2.0 in /usr/local/lib/python3.11/dist-packages (from aiohttp->datasets) (0.3.1)\n",
      "Requirement already satisfied: yarl<2.0,>=1.17.0 in /usr/local/lib/python3.11/dist-packages (from aiohttp->datasets) (1.20.0)\n",
      "Requirement already satisfied: idna>=2.0 in /usr/local/lib/python3.11/dist-packages (from yarl<2.0,>=1.17.0->aiohttp->datasets) (3.10)\n",
      "Requirement already satisfied: charset-normalizer<4,>=2 in /usr/local/lib/python3.11/dist-packages (from requests>=2.32.2->datasets) (3.4.1)\n",
      "Requirement already satisfied: urllib3<3,>=1.21.1 in /usr/local/lib/python3.11/dist-packages (from requests>=2.32.2->datasets) (2.3.0)\n",
      "Requirement already satisfied: certifi>=2017.4.17 in /usr/local/lib/python3.11/dist-packages (from requests>=2.32.2->datasets) (2025.1.31)\n",
      "Requirement already satisfied: regex!=2019.12.17 in /usr/local/lib/python3.11/dist-packages (from transformers>=4.46.0->trl) (2024.11.6)\n",
      "Requirement already satisfied: tokenizers<0.22,>=0.21 in /usr/local/lib/python3.11/dist-packages (from transformers>=4.46.0->trl) (0.21.1)\n",
      "Requirement already satisfied: MarkupSafe>=2.0 in /usr/local/lib/python3.11/dist-packages (from jinja2->torch>=2.0.0->accelerate) (3.0.2)\n",
      "Requirement already satisfied: python-dateutil>=2.8.2 in /usr/local/lib/python3.11/dist-packages (from pandas->datasets) (2.8.2)\n",
      "Requirement already satisfied: pytz>=2020.1 in /usr/local/lib/python3.11/dist-packages (from pandas->datasets) (2025.2)\n",
      "Requirement already satisfied: tzdata>=2022.7 in /usr/local/lib/python3.11/dist-packages (from pandas->datasets) (2025.2)\n",
      "Requirement already satisfied: six>=1.5 in /usr/local/lib/python3.11/dist-packages (from python-dateutil>=2.8.2->pandas->datasets) (1.17.0)\n",
      "Requirement already satisfied: markdown-it-py>=2.2.0 in /usr/local/lib/python3.11/dist-packages (from rich->trl) (3.0.0)\n",
      "Requirement already satisfied: pygments<3.0.0,>=2.13.0 in /usr/local/lib/python3.11/dist-packages (from rich->trl) (2.18.0)\n",
      "Requirement already satisfied: mdurl~=0.1 in /usr/local/lib/python3.11/dist-packages (from markdown-it-py>=2.2.0->rich->trl) (0.1.2)\n"
     ]
    }
   ],
   "source": [
    "# 1️⃣ Install\n",
    "!pip install --upgrade pip\n",
    "!pip install \"unsloth[colab-new] @ git+https://github.com/unslothai/unsloth.git\"\n",
    "!pip install trl accelerate bitsandbytes datasets"
   ]
  },
  {
   "cell_type": "code",
   "execution_count": 7,
   "metadata": {
    "colab": {
     "base_uri": "https://localhost:8080/",
     "height": 365,
     "referenced_widgets": [
      "67fd07fd9c724999acd71e09bb3b0b87",
      "fa8d5d13b81e4c6fa6b7bdef43add8ea",
      "df03abeaea2a44abbe646ec483932edf",
      "020b76ad6879455182dff4454a827529",
      "cfdeda82f4ee46d987d7dc3e7a7dfee9",
      "3e0cf5e5d2e44d5bbd9b935424c87f89",
      "05ab10d31a47455d856bbdebe2786d7b",
      "6da24d8e674b48b59ca02b93b50d5e53",
      "55590df445f64439a1acc6e8e6ad4119",
      "d58061d9579e49268ff500a775721429",
      "0f5ca11199c54d1195e9201de5ac53c1",
      "0b8a5abe4ad342af9d6cad9d01e7aa1f",
      "e66d0be0590f48de861db78076c1ef37",
      "f2afd0992f764e629aa0946cbd8fbbce",
      "e4afa86611984dab892743bfbc206841",
      "44fbafcf4c964693a51e309fe60a8228",
      "e85498904a894ae0a379d69e20e1ba9d",
      "c47453ad70f149b69bfe7d9051061736",
      "d9a7823789cc443283fede69a37d36cb",
      "5634322c527840f68ef80c504536b73d",
      "4c9798f9b7ce4de78078b29d74ee2001",
      "03c379a9ff054e12b64799eda72cd69f",
      "98102d09f1a94eb79537f1091676d928",
      "793cd75e690b40699cfeb89d51bcac0b",
      "8f112e137fd24786ac4cb34d7772d07c",
      "bbbbbbb8f636401095b5ab7cf36e4653",
      "dbc834868826425e8fccb7a092f0fc62",
      "408a442702194a0e9476f910d9291910",
      "fc20a5ce7edd4380859ce170ac478211",
      "bd252d0a4a774efc8fc4be20dd3afd39",
      "008f55d68cdd466db9c20798c626722c",
      "4817925354984995a8b166c7d44810b3",
      "5a9cd47d664141d18b2fd700f8b67d09",
      "1edf2cd6f9d34f5698620c1790dad70c",
      "61b8e62b0bb44b199478c916c205d131",
      "cded38b44ecd4da8b7c438e9cd3df59f",
      "7eb0ca9317d94ce0b1a0aaba47c05034",
      "e126dbe6167941cba2dea8274345914b",
      "ef7f96e5f2194c46a4af9122d3345d66",
      "13c27f697a6b4b47b145082a425d69e5",
      "f30d6f7a2d8b45b5b2b52d311f748013",
      "987bebb980024fd7b1511c538ab6b45b",
      "c924de89c9814359ab49bba80a3cbfff",
      "ce72566402e54c539deb2db6a0f62b40",
      "82cf58fcacab47e98f93519326d75333",
      "202a337dd5854b159df981228202a861",
      "bf61de58139f429592a224e05145c9c2",
      "64f207efcb59461686cc67e646e8746c",
      "26967d198bbd4132913bf94e684585ad",
      "3ec7bac7597649f988e71154c0aa64a5",
      "04fcc0fe47e34c068feb71a5501acd57",
      "565d8ef5ac2241479e936460da861c65",
      "6127a0ced1f34f53841102a33738c773",
      "36709357a63a4de08eb04097e5400b80",
      "e0e092982cfc41179a71d0cea35703cc",
      "0f98b1fca3ce4acb84d629cd6a7f009e",
      "ad004c36edf844958cc66e8d6f371e8a",
      "5870a3202e93494cb610ca060fd82802",
      "9daf4855be9d434a9b9712687a9cac98",
      "ddd049ef06364357b0ed1f720fdb18f3",
      "7e4a3e38f78c4c36873f17bc7243ec7b",
      "32971f6bea0e4d39bff6772d1898a653",
      "bd7df4a620ac419cacc852634ea1323b",
      "2e4bc0517bce4014a46d363f777a1d9a",
      "c9cfa4c55ad243e4b822e0d14ae4591c",
      "50f3e5aef50547dcb8304fb22dccedd7"
     ]
    },
    "id": "1d3nHo-iSaNo",
    "outputId": "fd0f17ec-c13b-474e-c366-729e273c89bd"
   },
   "outputs": [
    {
     "name": "stdout",
     "output_type": "stream",
     "text": [
      "==((====))==  Unsloth 2025.4.1: Fast Gemma2 patching. Transformers: 4.51.3.\n",
      "   \\\\   /|    Tesla T4. Num GPUs = 1. Max memory: 14.741 GB. Platform: Linux.\n",
      "O^O/ \\_/ \\    Torch: 2.6.0+cu124. CUDA: 7.5. CUDA Toolkit: 12.4. Triton: 3.2.0\n",
      "\\        /    Bfloat16 = FALSE. FA [Xformers = 0.0.29.post3. FA2 = False]\n",
      " \"-____-\"     Free license: http://github.com/unslothai/unsloth\n",
      "Unsloth: Fast downloading is enabled - ignore downloading bars which are red colored!\n"
     ]
    },
    {
     "data": {
      "application/vnd.jupyter.widget-view+json": {
       "model_id": "67fd07fd9c724999acd71e09bb3b0b87",
       "version_major": 2,
       "version_minor": 0
      },
      "text/plain": [
       "model.safetensors:   0%|          | 0.00/2.22G [00:00<?, ?B/s]"
      ]
     },
     "metadata": {},
     "output_type": "display_data"
    },
    {
     "data": {
      "application/vnd.jupyter.widget-view+json": {
       "model_id": "0b8a5abe4ad342af9d6cad9d01e7aa1f",
       "version_major": 2,
       "version_minor": 0
      },
      "text/plain": [
       "generation_config.json:   0%|          | 0.00/190 [00:00<?, ?B/s]"
      ]
     },
     "metadata": {},
     "output_type": "display_data"
    },
    {
     "data": {
      "application/vnd.jupyter.widget-view+json": {
       "model_id": "98102d09f1a94eb79537f1091676d928",
       "version_major": 2,
       "version_minor": 0
      },
      "text/plain": [
       "tokenizer_config.json:   0%|          | 0.00/46.4k [00:00<?, ?B/s]"
      ]
     },
     "metadata": {},
     "output_type": "display_data"
    },
    {
     "data": {
      "application/vnd.jupyter.widget-view+json": {
       "model_id": "1edf2cd6f9d34f5698620c1790dad70c",
       "version_major": 2,
       "version_minor": 0
      },
      "text/plain": [
       "tokenizer.model:   0%|          | 0.00/4.24M [00:00<?, ?B/s]"
      ]
     },
     "metadata": {},
     "output_type": "display_data"
    },
    {
     "data": {
      "application/vnd.jupyter.widget-view+json": {
       "model_id": "82cf58fcacab47e98f93519326d75333",
       "version_major": 2,
       "version_minor": 0
      },
      "text/plain": [
       "special_tokens_map.json:   0%|          | 0.00/636 [00:00<?, ?B/s]"
      ]
     },
     "metadata": {},
     "output_type": "display_data"
    },
    {
     "data": {
      "application/vnd.jupyter.widget-view+json": {
       "model_id": "0f98b1fca3ce4acb84d629cd6a7f009e",
       "version_major": 2,
       "version_minor": 0
      },
      "text/plain": [
       "tokenizer.json:   0%|          | 0.00/17.5M [00:00<?, ?B/s]"
      ]
     },
     "metadata": {},
     "output_type": "display_data"
    },
    {
     "name": "stderr",
     "output_type": "stream",
     "text": [
      "Unsloth: Dropout = 0 is supported for fast patching. You are using dropout = 0.05.\n",
      "Unsloth will patch all other layers, except LoRA matrices, causing a performance hit.\n",
      "Unsloth 2025.4.1 patched 26 layers with 0 QKV layers, 0 O layers and 0 MLP layers.\n"
     ]
    }
   ],
   "source": [
    "\n",
    "\n",
    "# 2️⃣ Imports\n",
    "import torch\n",
    "from unsloth import FastLanguageModel, is_bfloat16_supported\n",
    "from transformers import AutoTokenizer, TrainingArguments\n",
    "from trl import SFTTrainer\n",
    "from datasets import load_dataset\n",
    "\n",
    "# 3️⃣ Config & Load\n",
    "MODEL_NAME    = \"google/gemma-2-2b\"\n",
    "max_seq_length = 512\n",
    "dtype          = torch.float16       # T4 favors fp16\n",
    "load_in_4bit   = True                # QLoRA-style 4-bit weights\n",
    "\n",
    "# This handles quantization under the hood\n",
    "model, tokenizer = FastLanguageModel.from_pretrained(\n",
    "    model_name    = MODEL_NAME,\n",
    "    max_seq_length= max_seq_length,\n",
    "    dtype         = dtype,\n",
    "    load_in_4bit  = load_in_4bit,\n",
    ")\n",
    "\n",
    "# 4️⃣ Patch in LoRA adapters\n",
    "model = FastLanguageModel.get_peft_model(\n",
    "    model,\n",
    "    r                     = 8,\n",
    "    target_modules       = [\"q_proj\", \"v_proj\"],\n",
    "    lora_alpha           = 16,\n",
    "    lora_dropout         = 0.05,\n",
    "    bias                 = \"none\",\n",
    "    use_gradient_checkpointing = \"unsloth\",\n",
    "    random_state         = 42,\n",
    ")\n"
   ]
  },
  {
   "cell_type": "code",
   "execution_count": 12,
   "metadata": {
    "id": "mgZKKaR0Tsyd"
   },
   "outputs": [],
   "source": [
    "import os\n",
    "os.environ[\"WANDB_DISABLED\"] = \"true\"\n"
   ]
  },
  {
   "cell_type": "code",
   "execution_count": 14,
   "metadata": {
    "colab": {
     "base_uri": "https://localhost:8080/",
     "height": 612,
     "referenced_widgets": [
      "292dd35dc7c442ca944dcc35eb6673b8",
      "f46cda094f254f3b9a1b2ec6df3cba44",
      "fe0bf18aaa91453c9d4a93bf5ee7216f",
      "eda982a265a643efaa349dd9964ed041",
      "d7e4de5e82424db8ae7f18a151b711f1",
      "4919701a8e4f4f088dd3cfbdb80d2d99",
      "d66d7821360f4302995ff9ecd1ea1fdb",
      "8d2cd989e5604ba69118a56704fc46d2",
      "82038ed7a0b342b490c71e784d6afa7c",
      "1f807ab4291f45e3a2a2c30e64ed5f8b",
      "e912c08436754e7da965d7a686e472a3",
      "05e633b65c804f46ae7792fa6e4b22c2",
      "1b599f1f0e9c4d0d9bdd7cb5df93c71c",
      "facc4cd13d9040499bdf58d14c437769",
      "3f2fc03bc7824d90a5350fee3b307301",
      "124e2820b80348ddbebfffd0a6084013",
      "f2da2ea99e2c455d98c5f33c4dd415c7",
      "9fd2194776ed4300948e7f53ab06b5ce",
      "de3c2ffb0dee4806a20ebdfe56e842d2",
      "750085759ff9482b81cc22d3475bb435",
      "8064cef6132e429eae796a13f3dfa191",
      "27d99711792d42acbdcb5c9e4b87eed6"
     ]
    },
    "id": "sOJU0-QiSj4r",
    "outputId": "f0f6eb93-84fc-4805-d250-0996c30d56d5"
   },
   "outputs": [
    {
     "name": "stderr",
     "output_type": "stream",
     "text": [
      "Using the `WANDB_DISABLED` environment variable is deprecated and will be removed in v5. Use the --report_to flag to control the integrations used for logging result (for instance --report_to none).\n"
     ]
    },
    {
     "data": {
      "application/vnd.jupyter.widget-view+json": {
       "model_id": "292dd35dc7c442ca944dcc35eb6673b8",
       "version_major": 2,
       "version_minor": 0
      },
      "text/plain": [
       "Unsloth: Tokenizing [\"text\"] (num_proc=2):   0%|          | 0/1000 [00:00<?, ? examples/s]"
      ]
     },
     "metadata": {},
     "output_type": "display_data"
    },
    {
     "data": {
      "application/vnd.jupyter.widget-view+json": {
       "model_id": "05e633b65c804f46ae7792fa6e4b22c2",
       "version_major": 2,
       "version_minor": 0
      },
      "text/plain": [
       "Unsloth: Tokenizing [\"text\"] (num_proc=2):   0%|          | 0/200 [00:00<?, ? examples/s]"
      ]
     },
     "metadata": {},
     "output_type": "display_data"
    },
    {
     "name": "stderr",
     "output_type": "stream",
     "text": [
      "==((====))==  Unsloth - 2x faster free finetuning | Num GPUs used = 1\n",
      "   \\\\   /|    Num examples = 1,000 | Num Epochs = 1 | Total steps = 500\n",
      "O^O/ \\_/ \\    Batch size per device = 2 | Gradient accumulation steps = 1\n",
      "\\        /    Data Parallel GPUs = 1 | Total batch size (2 x 1 x 1) = 2\n",
      " \"-____-\"     Trainable parameters = 1,597,440/2,000,000,000 (0.08% trained)\n"
     ]
    },
    {
     "data": {
      "text/html": [
       "\n",
       "    <div>\n",
       "      \n",
       "      <progress value='500' max='500' style='width:300px; height:20px; vertical-align: middle;'></progress>\n",
       "      [500/500 05:35, Epoch 1/1]\n",
       "    </div>\n",
       "    <table border=\"1\" class=\"dataframe\">\n",
       "  <thead>\n",
       " <tr style=\"text-align: left;\">\n",
       "      <th>Step</th>\n",
       "      <th>Training Loss</th>\n",
       "    </tr>\n",
       "  </thead>\n",
       "  <tbody>\n",
       "    <tr>\n",
       "      <td>50</td>\n",
       "      <td>1.201200</td>\n",
       "    </tr>\n",
       "    <tr>\n",
       "      <td>100</td>\n",
       "      <td>1.210700</td>\n",
       "    </tr>\n",
       "    <tr>\n",
       "      <td>150</td>\n",
       "      <td>1.163200</td>\n",
       "    </tr>\n",
       "    <tr>\n",
       "      <td>200</td>\n",
       "      <td>1.186300</td>\n",
       "    </tr>\n",
       "    <tr>\n",
       "      <td>250</td>\n",
       "      <td>1.163000</td>\n",
       "    </tr>\n",
       "    <tr>\n",
       "      <td>300</td>\n",
       "      <td>1.136700</td>\n",
       "    </tr>\n",
       "    <tr>\n",
       "      <td>350</td>\n",
       "      <td>1.195900</td>\n",
       "    </tr>\n",
       "    <tr>\n",
       "      <td>400</td>\n",
       "      <td>1.209400</td>\n",
       "    </tr>\n",
       "    <tr>\n",
       "      <td>450</td>\n",
       "      <td>1.147600</td>\n",
       "    </tr>\n",
       "    <tr>\n",
       "      <td>500</td>\n",
       "      <td>1.168800</td>\n",
       "    </tr>\n",
       "  </tbody>\n",
       "</table><p>"
      ],
      "text/plain": [
       "<IPython.core.display.HTML object>"
      ]
     },
     "metadata": {},
     "output_type": "display_data"
    },
    {
     "data": {
      "text/plain": [
       "TrainOutput(global_step=500, training_loss=1.1782741317749024, metrics={'train_runtime': 336.0462, 'train_samples_per_second': 2.976, 'train_steps_per_second': 1.488, 'total_flos': 3048217570824192.0, 'train_loss': 1.1782741317749024})"
      ]
     },
     "execution_count": 14,
     "metadata": {},
     "output_type": "execute_result"
    }
   ],
   "source": [
    "# Load Alpaca-cleaned\n",
    "ds_chat    = load_dataset(\"yahma/alpaca-cleaned\")[\"train\"]\n",
    "train_chat = ds_chat.shuffle(42).select(range(1000))\n",
    "eval_chat  = ds_chat.shuffle(42).select(range(100,300))\n",
    "\n",
    "# Format into a single \"text\" field\n",
    "EOS = tokenizer.eos_token\n",
    "def format_chat(ex):\n",
    "    instr = ex[\"instruction\"]\n",
    "    inp   = ex[\"input\"]\n",
    "    out   = ex[\"output\"]\n",
    "    prompt = (\n",
    "        \"### Instruction:\\n\" + instr +\n",
    "        ((\"\\n### Input:\\n\"+inp) if inp else \"\") +\n",
    "        \"\\n### Response:\\n\" + out + EOS\n",
    "    )\n",
    "    return {\"text\": prompt}\n",
    "\n",
    "# use the exact same format_chat you had, but map with batched=False\n",
    "train_chat = train_chat.map(format_chat, batched=False, remove_columns=ds_chat.column_names)\n",
    "eval_chat  = eval_chat.map (format_chat, batched=False, remove_columns=ds_chat.column_names)\n",
    "\n",
    "\n",
    "# Trainer for chat\n",
    "chat_args = TrainingArguments(\n",
    "    per_device_train_batch_size   = 2,\n",
    "    gradient_accumulation_steps   = 1,\n",
    "    num_train_epochs              = 1,\n",
    "    logging_steps                 = 50,\n",
    "    save_steps                    = 200,\n",
    "    fp16                          = True,\n",
    "    output_dir                    = \"./lora_chat\"\n",
    ")\n",
    "\n",
    "trainer_chat = SFTTrainer(\n",
    "    model               = model,\n",
    "    tokenizer           = tokenizer,\n",
    "    train_dataset       = train_chat,\n",
    "    eval_dataset        = eval_chat,\n",
    "    dataset_text_field  = \"text\",\n",
    "    max_seq_length      = max_seq_length,\n",
    "    args                = chat_args,\n",
    ")\n",
    "\n",
    "trainer_chat.train()\n"
   ]
  },
  {
   "cell_type": "code",
   "execution_count": 17,
   "metadata": {
    "colab": {
     "base_uri": "https://localhost:8080/",
     "height": 456,
     "referenced_widgets": [
      "1e7c9464fb774993bf99389f22c7f5cb",
      "c20fca9a9d3c44879932b236ed6f0ae1",
      "fb8a4f677fb44d69ba7c120396b3e453",
      "1c755800fce04142bf6c43f76a52bbbc",
      "2baae26dd02c4051ace92b0fa309bfa4",
      "83192d85f3ea4544b2392e4e8837840d",
      "1ea7afcc437b4ce19b9be30e1b66a452",
      "d13381d8948c49b183cb29e537f973c7",
      "4ef8fdb71375411cb379a62d446a6589",
      "2f76983f0d4c4bdc9ca0da2e13ff15a6",
      "6fcf6c2c9c5543e3be1f40411627370b",
      "36c3299db7794161ab5b781b976c42ac",
      "8cdcd5d5f1404e85a32bdd8ddd949edc",
      "088b3e7cda2a4093b16dad363df13343",
      "f7a8f314bd864258a28cc8eb73af8c49",
      "8ddbcd6354b34d3aa3807ca33f18d209",
      "72c8f425b19a42dc947150701824e9c7",
      "f1e458ab69aa480982fc4cb0abb33a6f",
      "110b720aefa64733b1d7c2f9ff5b406d",
      "c955c6c9133241e186b06b78a13de055",
      "1041b02d8dc940658daa81f20b221044",
      "7ddc23c22c364d38aa6de2f9005e18e5",
      "30092d2d5e8c4447b789d1cac0427d86",
      "137d819912844710883032c888488c5d",
      "3b55b44a058e408997937433ba8c6304",
      "243c71ffe2b84d2090a1b1b59d25cec1",
      "512d211469bd494caa01c1a6a79f9556",
      "0a9d16e1d5a9448cb346d55c7481caac",
      "ce070a1e662b4de39687fa9da4baecef",
      "ecbf6566210a40959bb9740a9c20e488",
      "cc05701396ff4bd0815d0c54f2840787",
      "10909def66234d3096cb1c37017ddf4d",
      "db24ef6d83f64485a0518bd4e984a3de",
      "0df107b875ca444ba923eb83ee62c756",
      "f394b6f5936049ccbce1ddcff76bb8e2",
      "5bf6784b44844bc2b81244f49e277b94",
      "07dee4156b0f484e8c9c6f17d25c84ca",
      "3e006c0ff29f4ee0bc0a7fea8548244d",
      "0c5314cc8c754348b64c4c2ba33ca983",
      "25cf77c381724f63bde12c6ec9daba4b",
      "7748a822869047598e899125917b6521",
      "04253428f7534fac832c9dfa5464a1f4",
      "8de6a9e398494f17a3857ddeed3a9b9e",
      "c9ce5c808973491fb8a1f127c1b37daf"
     ]
    },
    "id": "h5hKmP5oSmcS",
    "outputId": "95b99ddb-0f50-4e42-88d7-ce33ef429ff7"
   },
   "outputs": [
    {
     "data": {
      "application/vnd.jupyter.widget-view+json": {
       "model_id": "1e7c9464fb774993bf99389f22c7f5cb",
       "version_major": 2,
       "version_minor": 0
      },
      "text/plain": [
       "Map:   0%|          | 0/300 [00:00<?, ? examples/s]"
      ]
     },
     "metadata": {},
     "output_type": "display_data"
    },
    {
     "data": {
      "application/vnd.jupyter.widget-view+json": {
       "model_id": "36c3299db7794161ab5b781b976c42ac",
       "version_major": 2,
       "version_minor": 0
      },
      "text/plain": [
       "Map:   0%|          | 0/90 [00:00<?, ? examples/s]"
      ]
     },
     "metadata": {},
     "output_type": "display_data"
    },
    {
     "name": "stderr",
     "output_type": "stream",
     "text": [
      "Using the `WANDB_DISABLED` environment variable is deprecated and will be removed in v5. Use the --report_to flag to control the integrations used for logging result (for instance --report_to none).\n"
     ]
    },
    {
     "data": {
      "application/vnd.jupyter.widget-view+json": {
       "model_id": "30092d2d5e8c4447b789d1cac0427d86",
       "version_major": 2,
       "version_minor": 0
      },
      "text/plain": [
       "Unsloth: Tokenizing [\"text\"] (num_proc=2):   0%|          | 0/300 [00:00<?, ? examples/s]"
      ]
     },
     "metadata": {},
     "output_type": "display_data"
    },
    {
     "data": {
      "application/vnd.jupyter.widget-view+json": {
       "model_id": "0df107b875ca444ba923eb83ee62c756",
       "version_major": 2,
       "version_minor": 0
      },
      "text/plain": [
       "Unsloth: Tokenizing [\"text\"] (num_proc=2):   0%|          | 0/90 [00:00<?, ? examples/s]"
      ]
     },
     "metadata": {},
     "output_type": "display_data"
    },
    {
     "name": "stderr",
     "output_type": "stream",
     "text": [
      "==((====))==  Unsloth - 2x faster free finetuning | Num GPUs used = 1\n",
      "   \\\\   /|    Num examples = 300 | Num Epochs = 1 | Total steps = 150\n",
      "O^O/ \\_/ \\    Batch size per device = 2 | Gradient accumulation steps = 1\n",
      "\\        /    Data Parallel GPUs = 1 | Total batch size (2 x 1 x 1) = 2\n",
      " \"-____-\"     Trainable parameters = 1,597,440/2,000,000,000 (0.08% trained)\n"
     ]
    },
    {
     "data": {
      "text/html": [
       "\n",
       "    <div>\n",
       "      \n",
       "      <progress value='150' max='150' style='width:300px; height:20px; vertical-align: middle;'></progress>\n",
       "      [150/150 01:04, Epoch 1/1]\n",
       "    </div>\n",
       "    <table border=\"1\" class=\"dataframe\">\n",
       "  <thead>\n",
       " <tr style=\"text-align: left;\">\n",
       "      <th>Step</th>\n",
       "      <th>Training Loss</th>\n",
       "    </tr>\n",
       "  </thead>\n",
       "  <tbody>\n",
       "    <tr>\n",
       "      <td>50</td>\n",
       "      <td>1.337200</td>\n",
       "    </tr>\n",
       "    <tr>\n",
       "      <td>100</td>\n",
       "      <td>1.088300</td>\n",
       "    </tr>\n",
       "    <tr>\n",
       "      <td>150</td>\n",
       "      <td>1.029700</td>\n",
       "    </tr>\n",
       "  </tbody>\n",
       "</table><p>"
      ],
      "text/plain": [
       "<IPython.core.display.HTML object>"
      ]
     },
     "metadata": {},
     "output_type": "display_data"
    },
    {
     "data": {
      "text/plain": [
       "TrainOutput(global_step=150, training_loss=1.1517459615071615, metrics={'train_runtime': 64.8357, 'train_samples_per_second': 4.627, 'train_steps_per_second': 2.314, 'total_flos': 415223970859008.0, 'train_loss': 1.1517459615071615})"
      ]
     },
     "execution_count": 17,
     "metadata": {},
     "output_type": "execute_result"
    }
   ],
   "source": [
    "# Load MBPP\n",
    "ds_code     = load_dataset(\"commit0/mbpp\")\n",
    "train_code  = ds_code[\"train\"].shuffle(42).select(range(300))\n",
    "eval_code   = ds_code[\"validation\"].shuffle(42).select(range(90))\n",
    "\n",
    "def format_code(ex):\n",
    "    src = ex[\"prompt\"]\n",
    "    sol = ex[\"canonical_solution\"]\n",
    "    return {\"text\": (src + \"\\n\" + sol + tokenizer.eos_token)}\n",
    "\n",
    "train_code = train_code.map(format_code, batched=False, remove_columns=ds_code[\"train\"].column_names)\n",
    "eval_code  = eval_code.map(format_code,  batched=False, remove_columns=ds_code[\"validation\"].column_names)\n",
    "\n",
    "# Trainer for code\n",
    "code_args = TrainingArguments(\n",
    "    per_device_train_batch_size   = 2,\n",
    "    gradient_accumulation_steps   = 1,\n",
    "    num_train_epochs              = 1,\n",
    "    logging_steps                 = 50,\n",
    "    save_steps                    = 200,\n",
    "    fp16                          = True,\n",
    "    output_dir                    = \"./lora_code\"\n",
    ")\n",
    "\n",
    "trainer_code = SFTTrainer(\n",
    "    model               = model,\n",
    "    tokenizer           = tokenizer,\n",
    "    train_dataset       = train_code,\n",
    "    eval_dataset        = eval_code,\n",
    "    dataset_text_field  = \"text\",\n",
    "    max_seq_length      = max_seq_length,\n",
    "    args                = code_args,\n",
    ")\n",
    "\n",
    "trainer_code.train()\n"
   ]
  },
  {
   "cell_type": "markdown",
   "metadata": {
    "id": "IsOw5RLVYsSz"
   },
   "source": [
    "## Part B"
   ]
  },
  {
   "cell_type": "code",
   "execution_count": 20,
   "metadata": {
    "colab": {
     "base_uri": "https://localhost:8080/",
     "height": 746,
     "referenced_widgets": [
      "c717682799ad4936983fe6912c93cde1",
      "ce5f03d1a92f458f8f340137cdb1a730",
      "4cc28ad3391243daae970f33ff142277",
      "da6561c2564f4920b57e171426c8c2ce",
      "5c6cc9be357041008c72ee057079e02a",
      "e959c6531cd34182b8dad593672bbc24",
      "add69638d5574cf2a0664014efc57f7b",
      "b5516d9620d344e79862cb09a3415451",
      "cf6bc77ffde44a30bd89b8ccb4229dcd",
      "a5fcd8bd8ffe419eb3a0bf169226f49b",
      "a3c0f6cdf7204bbb91c518a987b9adc7",
      "2ec16aadcece4425ab13fb9458d19c92",
      "4c68b0a2dac846268fc69070931696f6",
      "c14b9fb013cf4755ba5f35c4c10289a4",
      "3db3ddc0db0f4c84b6276308dcf1a033",
      "ab835e5b69cf40c489176ce9abfcfa01",
      "6e67198bd2ee4143910b5ef1a10c469e",
      "9d2249c03c074e388cc73f8c14d45795",
      "03aa91b9bf07471b88bc8b2da21c4f73",
      "aba250820de848db80c7a7f61851b8cf",
      "0e5cf7c3205a4194a86edc2533a40119",
      "89f271a15bdc4e31b7fe23293dab0133",
      "f441b20522f54ff08ead4cd6965e8c16",
      "42710c0f7c2b44a9a72f831dc8f28521",
      "02ee26893fb844cc888e71d8f23b79a9",
      "0efde69b70d24ba3a3cbb56bfcd0ab20",
      "0f9c7283d860412c932ddeefd9e8a573",
      "e15ad9b14d1c47a1adfda5bb0579b5ab",
      "74813a3eb4b54774bf9a94a5f1f03cac",
      "09caa1b9e2c44cf78e99215c95e1e192",
      "6048ce1d0c4143d482e63b11aa674586",
      "8d4fe555c57e4738b3ea4f3b7122f688",
      "347995c3330a4fae9d214c2e25eb6930",
      "e80062edc72647339b674f81257e3995",
      "00b5b60e307f467fa4799a7251e68cc5",
      "258db2f294174ecdaf23a9022222bcc4",
      "4f528a3511544e51b30bec4969c0c93c",
      "6ec2ac3f5c404822883e4738b160ec49",
      "876d6bdf0ead48f4a374127fd896484b",
      "7b4bfc7872d64c688ff2469577ff7176",
      "0a80f14225c842d5b8c24f2c3b1ef9e7",
      "fd855ce68c6c4c38b58782d98eaf2c61",
      "7518cf28036c4fca98f6ade8d1298337",
      "8b891cd39cc04c12b510856d14519ba1",
      "aa142e4bf24844dea80bb7969dfb333f",
      "3960c9ba90594f76bda26b5c06bcc256",
      "0386a993566b41038466a69d8ebc9e76",
      "5262092908ad4f6ca33fed34dabd1177",
      "ce659ebb4073421fadb6674db0e553ad",
      "f643a3ae7c4a48af94b41ce3f51f050c",
      "08cafbc0b4ef452db03cd0287fe1e788",
      "8e9e85e9d11d493989b7e8eb36cdcebd",
      "a1ba33ed1cdc4d52b8614dde8fe47df5",
      "9ddf3cfae1a94cafa1545bdb28fa9d58",
      "8452b2ddf6c3420e9dbe0f106a7afcf3",
      "89882a869f6c46e785aba6d78080851d",
      "922e0111ea404853b3bc71bb497bc05d",
      "f8ee755664004d5ebd12403f1ce8e523",
      "3e7885d2570b4a20989b2c0ab5ea94cb",
      "14c38c7d38d34a5bbf6594827fabafdc",
      "23ad6c74426f4e22a0d2d52dcd003082",
      "e198b142092d49c6a6d53914bb5f099b",
      "07cec4ecac0549689a4f0073a573ed42",
      "01675fab68324b229c8570a47bb1fb9a",
      "f909bb0b4fda458faaf1a90836f692cb",
      "c886c02cc0e94e0894e7b765d0a3d08a",
      "9fa205226738407cae2ff916974d02e0",
      "6421e8f84479443496046b2a39276c8d",
      "5059dc5f28954d69aca204737be6a2a2",
      "ca6108a6c3994cf8aa0fe9eec6e63981",
      "c329fc86ec5f431b8e216d521f3d82e8",
      "5aff4b7c4ec742658ac798cf461b8661",
      "c47e46e0f26945ddbf431430a19fb04c",
      "4c50df0f822f45c3bf134d1aaac1dd43",
      "91c5a5b7b1a5469a98dc320dfa08953d",
      "44d7349c98ff4f218df37834ad65e4c6",
      "0a4d46061f58409ebacfb3585fd95171",
      "b159a41585e24c12bb4a6b08c72171c7",
      "10cbb455d6f2466f98e5fd58f628be39",
      "87bac4a0004248bfa059b2f38f4d0e72",
      "4c12357b80db42c4a30a375c9f0a38de",
      "f68ca214f8354aea809a59d4099feccf",
      "d06223cd7cf24f67957ff2f01e97ac15",
      "3dbde581ae4245bab7040763bb48acdf",
      "a5361d8101d74bd4b7e704fdd6c62189",
      "3cf7ec156f9848ae932d0b308492ead9",
      "95252684b58c4efabb6457a00d655dd7",
      "20774b6ed63e4b059a72eff4590035bc",
      "a6400c6ae33f49e0ae75dccbbe1c2cf6",
      "0609f9696cd049c38b51f97a1c5e3283",
      "fce20742848745d9968538e6a96d5b17",
      "eaedec0a92f649e4ad30b0554374f693",
      "6976814cce934e30b10ae8bdc38ecca3",
      "4e20fb6ceb1e4d4abda90b09c895190f",
      "a6fb59ed3682456ea8c7426d62f6a8c1",
      "3f3a3dbabfb74eb4955a080145ede16d",
      "c841495adecb4f8b8bc30014bd67e1f0",
      "b474702306ec47bbaf09e2125ee5e3f5",
      "bf5885adba364342a5043f6fe008fbd4",
      "77aa8a81fba14681a72023e78ee25bdf",
      "ead6badb66d743a5a170d697936f13e3",
      "66cd80fc96b8419692df7d92a54d4208",
      "be80e4b824524e04a68281cd84acc241",
      "aac55b88e74f4b1a8d2fbd2103f3a000",
      "298e72b47d1b4384a35d693903d06fd0",
      "952d2a9e00324ce9b17c5be3bce210e4",
      "3d667cb5600147a8852b7f39fa9f3d08",
      "21c465f55afe4838bc5e7d3dce18dd32",
      "c3d554ca62f54eb485abff3536f0da14",
      "616d58b2f53744c7adb9d75d2f66eed4",
      "e2d1f64e64794b4ebf333e1b80f1d47d",
      "b5b7be68866144dc9a2e6fe358a6a9e3",
      "296c74dc63cf4b0ebf20aeb69ddb0cbe",
      "e8e77a610c6346d780c28768e15a3250",
      "7efad4030160435d92ca63ee86d64a81",
      "d32dbe8259a046ccbaa4138a2a5acad1",
      "7cad7dfa071b4db5a2e71bc31c596850",
      "68cae04fae624e6591e1e64b56ad9940",
      "3d44cc163fd24f56b9e75b37515d9e85",
      "0c21c791c6e744bc96793ddfced76113",
      "eee832a8e1324acb8e842a1675abfc3d",
      "5659b53c25394d68a3bf710ff7b22fae",
      "ef016875daae481f9d47d517f4e2358e",
      "e916aa3f491945d1ada3bf2e9d7ddb5a",
      "54a677cc18924bf4a0d9496355e0126c",
      "d9efacaad973482da7328d555495dfe4",
      "bc30be5d38e84293a65845037fd7b5db",
      "cb523201e610468bb37af818695eb2e4",
      "eb58a14e762b4dc0a3bf0735d99c0b32",
      "8c99d930a921453ba10ddc18963f9c76",
      "70006edfdf944c8096b7492da2132b08",
      "232218b25af24f09a00f26ae4e5c1442",
      "eaee630501a44f31bc3447b221ebdc8b",
      "8c3b013ec4af439db8fa46b1c7652d3a",
      "b9872cdc58604a989022a2c720e3ab2a",
      "26ece4e3937d4d8787fa3d3284bd2bd4",
      "a78a96af0a04462dbc0053a7fd92d521",
      "74a775b82ea34d9f9c92aa756f50d17b",
      "7c28cd3928dd4bb3b5e1df5c8cc029fe",
      "c5166e3b6d99429687334391b99e7979",
      "a10a755e08984a8ca4df0e0f48d67c36",
      "facb6de97bde442aa12254c2f2378d3d",
      "f6183b52f4bc44d4bd560a424a22d64a",
      "fb7efa0c196c4ddab0b2663709d12df0",
      "524e68ec689c48e3907bbb5f5eaff03a",
      "30f6e990a86a4a4dba7ab7f439469e48",
      "fdc0cf386e794f23a6303904f8a4b401",
      "876e26b1f3d4434fbdc4abe8c5878e91",
      "06ac6c93d6b442448ab65e1f6f1dadfc",
      "3c6f26ffe4fa496488a0363e770cbbea",
      "10535abf3798411b8d9b34b598872d3f",
      "a5578f77d5f54e43be71ffbbeb0faff2",
      "c7652867985a49a1ad6d111b897bbf92",
      "202fda2728cc490da6a07337e9977627",
      "9859e4c3ef8042a382bb729771badd7b",
      "ab3ce8fe0da047f2b90c2cb27fa03277",
      "451d994516764caf93e55cd703cb0854",
      "df7d88e15c9d40fea371b16e8535fc3a",
      "fd275a8d221a4b708be9abbf5dfadf91",
      "0ab2d74c1a4f42bbbe56fc94b7966a97",
      "3063ed25a10c42c6a2d94b5e43f37f20",
      "899c7610bf0040208d0ec68dc25ea170",
      "884a07efcfe34ef483fb0c323107e05d",
      "3f4868682e8a4b91bbb0af7de33325e0",
      "c7d2adbccf5c4216a7adc32338a29373",
      "2ebfd710783e41348d3c1a2f0fa9c53f",
      "ce0c781671104037aef34cf0a1910165",
      "d743537ebfbe4fb5a27ba0129ffcb375",
      "41f6cb972e034bfea21e6888ba15424b",
      "86c55c431df24362b13ad01cd4c331ad",
      "5f3f85e3454e497aaa5904715dfae842",
      "91c143f1e47d494dbf4ea0d73db69c4b",
      "e53fd81564694b3e94124dd3e2e9109c",
      "d468bd7672474545a8ca35db8cfb7d96",
      "9cf34ade7e3b4576919fa87ecda97113",
      "89befe8fb23a417b83d0b8e9fbf34618",
      "6d0483189444444a81a01827c6652df0",
      "4188b672e56b4f2cb56fa7dabace4fb5",
      "41d488f1a17c4aaa809fabc0222c04f0",
      "eda8fa6f20af4a8aaa264d9e95d3744b",
      "52a0fd4682974cca826fa6137a079662",
      "cb5ce8da07b942adb194e947256186f3",
      "419d95855fe74f0f9fe208fe14f6eac5",
      "25296e97a84441f0a2bd947466f3d3f3",
      "13f270b489b1413ab896866e1869916f",
      "34908491cb5847119fac39b7bba3abd0",
      "d78568da2b4b43c4b54d16b3d1599893",
      "74b0a56ec69c4810a0dbf48fea01231f",
      "7bfb95f85b314adf885dec8381f8f74a",
      "f4bed267b4664386b0c8c00ebb5ee9fc",
      "a843779a0b524ab9aad6c282108b3d02",
      "1de1eab2cdf24d7d8e511caaf0845834",
      "40ad2cbbcda04a6f99fd304fa4db29bf",
      "0defd3c21a994bff99be2869f0ff09e4",
      "55121229164748bb8fc88cc3fddf124d",
      "47e0f6fd65d445b7906b40dca2873ab0",
      "29aac171cd4541f19d75a4d342e91305",
      "9d60c9aa00ca4585863b3ad98a85021a",
      "d80e7188021c4077969de260c721cfb9",
      "009ff90a7ee04fa9b93c1825cd299ad7",
      "4469bea4813d49e081c6db518edf92d1",
      "c261750982f142aca0642cc0d6596c5f",
      "7aab2bd293194bb6a042ede4b07a903d",
      "515fdd38cd8042968248d3de49f74a3c",
      "e4c8ac40deae4a8fa79dc28ee646964c",
      "37a5c128af1748deb4022d5b61077f25",
      "3009266912fa48ff9c20947945aa0951",
      "a6fb980ca81445188f12bcbf670aedf1",
      "3edddb410e9a4054a4bfdbf177d572d3",
      "2552da93468c480b979d84508575d0e4",
      "eee2dd879da0468fb7d9d4205132f77d",
      "56fb93fdb5974abf99da4750bf8504a6",
      "e4ef0470612c49e0a0e8b80c9f635a8b",
      "0fe3dad4d4064720adad4c9a158e52f6",
      "d81e42a3d596411082ca18e8f9d83cc3",
      "434046abcaf344af8aeb271ec477cf12",
      "f1d9052ff29c48a08039ce6a40d4a0a3",
      "91c107403c6340f9aec3572d5f6835ee",
      "5152c937c5144ab88cb527e28c54af70",
      "1649e0f1ef3c491ba0f0c3845803dc5e"
     ]
    },
    "id": "qs_9nYS5YNvT",
    "outputId": "88e2b7e0-7a94-460a-c9f8-7407a8565a3e"
   },
   "outputs": [
    {
     "data": {
      "application/vnd.jupyter.widget-view+json": {
       "model_id": "c717682799ad4936983fe6912c93cde1",
       "version_major": 2,
       "version_minor": 0
      },
      "text/plain": [
       "README.md:   0%|          | 0.00/16.0k [00:00<?, ?B/s]"
      ]
     },
     "metadata": {},
     "output_type": "display_data"
    },
    {
     "data": {
      "application/vnd.jupyter.widget-view+json": {
       "model_id": "2ec16aadcece4425ab13fb9458d19c92",
       "version_major": 2,
       "version_minor": 0
      },
      "text/plain": [
       "wikipedia.py:   0%|          | 0.00/36.7k [00:00<?, ?B/s]"
      ]
     },
     "metadata": {},
     "output_type": "display_data"
    },
    {
     "name": "stdout",
     "output_type": "stream",
     "text": [
      "The repository for wikipedia contains custom code which must be executed to correctly load the dataset. You can inspect the repository content at https://hf.co/datasets/wikipedia.\n",
      "You can avoid this prompt in future by passing the argument `trust_remote_code=True`.\n",
      "\n",
      "Do you wish to run the custom code? [y/N] y\n"
     ]
    },
    {
     "data": {
      "application/vnd.jupyter.widget-view+json": {
       "model_id": "f441b20522f54ff08ead4cd6965e8c16",
       "version_major": 2,
       "version_minor": 0
      },
      "text/plain": [
       "train-00000-of-00015.parquet:   0%|          | 0.00/764M [00:00<?, ?B/s]"
      ]
     },
     "metadata": {},
     "output_type": "display_data"
    },
    {
     "data": {
      "application/vnd.jupyter.widget-view+json": {
       "model_id": "e80062edc72647339b674f81257e3995",
       "version_major": 2,
       "version_minor": 0
      },
      "text/plain": [
       "train-00001-of-00015.parquet:   0%|          | 0.00/416M [00:00<?, ?B/s]"
      ]
     },
     "metadata": {},
     "output_type": "display_data"
    },
    {
     "data": {
      "application/vnd.jupyter.widget-view+json": {
       "model_id": "aa142e4bf24844dea80bb7969dfb333f",
       "version_major": 2,
       "version_minor": 0
      },
      "text/plain": [
       "train-00002-of-00015.parquet:   0%|          | 0.00/342M [00:00<?, ?B/s]"
      ]
     },
     "metadata": {},
     "output_type": "display_data"
    },
    {
     "data": {
      "application/vnd.jupyter.widget-view+json": {
       "model_id": "89882a869f6c46e785aba6d78080851d",
       "version_major": 2,
       "version_minor": 0
      },
      "text/plain": [
       "train-00003-of-00015.parquet:   0%|          | 0.00/306M [00:00<?, ?B/s]"
      ]
     },
     "metadata": {},
     "output_type": "display_data"
    },
    {
     "data": {
      "application/vnd.jupyter.widget-view+json": {
       "model_id": "9fa205226738407cae2ff916974d02e0",
       "version_major": 2,
       "version_minor": 0
      },
      "text/plain": [
       "train-00004-of-00015.parquet:   0%|          | 0.00/281M [00:00<?, ?B/s]"
      ]
     },
     "metadata": {},
     "output_type": "display_data"
    },
    {
     "data": {
      "application/vnd.jupyter.widget-view+json": {
       "model_id": "b159a41585e24c12bb4a6b08c72171c7",
       "version_major": 2,
       "version_minor": 0
      },
      "text/plain": [
       "train-00005-of-00015.parquet:   0%|          | 0.00/261M [00:00<?, ?B/s]"
      ]
     },
     "metadata": {},
     "output_type": "display_data"
    },
    {
     "data": {
      "application/vnd.jupyter.widget-view+json": {
       "model_id": "a6400c6ae33f49e0ae75dccbbe1c2cf6",
       "version_major": 2,
       "version_minor": 0
      },
      "text/plain": [
       "train-00006-of-00015.parquet:   0%|          | 0.00/220M [00:00<?, ?B/s]"
      ]
     },
     "metadata": {},
     "output_type": "display_data"
    },
    {
     "data": {
      "application/vnd.jupyter.widget-view+json": {
       "model_id": "77aa8a81fba14681a72023e78ee25bdf",
       "version_major": 2,
       "version_minor": 0
      },
      "text/plain": [
       "train-00007-of-00015.parquet:   0%|          | 0.00/210M [00:00<?, ?B/s]"
      ]
     },
     "metadata": {},
     "output_type": "display_data"
    },
    {
     "data": {
      "application/vnd.jupyter.widget-view+json": {
       "model_id": "e2d1f64e64794b4ebf333e1b80f1d47d",
       "version_major": 2,
       "version_minor": 0
      },
      "text/plain": [
       "train-00008-of-00015.parquet:   0%|          | 0.00/215M [00:00<?, ?B/s]"
      ]
     },
     "metadata": {},
     "output_type": "display_data"
    },
    {
     "data": {
      "application/vnd.jupyter.widget-view+json": {
       "model_id": "5659b53c25394d68a3bf710ff7b22fae",
       "version_major": 2,
       "version_minor": 0
      },
      "text/plain": [
       "train-00009-of-00015.parquet:   0%|          | 0.00/211M [00:00<?, ?B/s]"
      ]
     },
     "metadata": {},
     "output_type": "display_data"
    },
    {
     "data": {
      "application/vnd.jupyter.widget-view+json": {
       "model_id": "eaee630501a44f31bc3447b221ebdc8b",
       "version_major": 2,
       "version_minor": 0
      },
      "text/plain": [
       "train-00010-of-00015.parquet:   0%|          | 0.00/181M [00:00<?, ?B/s]"
      ]
     },
     "metadata": {},
     "output_type": "display_data"
    },
    {
     "data": {
      "application/vnd.jupyter.widget-view+json": {
       "model_id": "fb7efa0c196c4ddab0b2663709d12df0",
       "version_major": 2,
       "version_minor": 0
      },
      "text/plain": [
       "train-00011-of-00015.parquet:   0%|          | 0.00/197M [00:00<?, ?B/s]"
      ]
     },
     "metadata": {},
     "output_type": "display_data"
    },
    {
     "data": {
      "application/vnd.jupyter.widget-view+json": {
       "model_id": "9859e4c3ef8042a382bb729771badd7b",
       "version_major": 2,
       "version_minor": 0
      },
      "text/plain": [
       "train-00012-of-00015.parquet:   0%|          | 0.00/180M [00:00<?, ?B/s]"
      ]
     },
     "metadata": {},
     "output_type": "display_data"
    },
    {
     "data": {
      "application/vnd.jupyter.widget-view+json": {
       "model_id": "2ebfd710783e41348d3c1a2f0fa9c53f",
       "version_major": 2,
       "version_minor": 0
      },
      "text/plain": [
       "train-00013-of-00015.parquet:   0%|          | 0.00/219M [00:00<?, ?B/s]"
      ]
     },
     "metadata": {},
     "output_type": "display_data"
    },
    {
     "data": {
      "application/vnd.jupyter.widget-view+json": {
       "model_id": "6d0483189444444a81a01827c6652df0",
       "version_major": 2,
       "version_minor": 0
      },
      "text/plain": [
       "train-00014-of-00015.parquet:   0%|          | 0.00/220M [00:00<?, ?B/s]"
      ]
     },
     "metadata": {},
     "output_type": "display_data"
    },
    {
     "data": {
      "application/vnd.jupyter.widget-view+json": {
       "model_id": "74b0a56ec69c4810a0dbf48fea01231f",
       "version_major": 2,
       "version_minor": 0
      },
      "text/plain": [
       "Generating train split:   0%|          | 0/2402095 [00:00<?, ? examples/s]"
      ]
     },
     "metadata": {},
     "output_type": "display_data"
    },
    {
     "data": {
      "application/vnd.jupyter.widget-view+json": {
       "model_id": "d80e7188021c4077969de260c721cfb9",
       "version_major": 2,
       "version_minor": 0
      },
      "text/plain": [
       "Filter:   0%|          | 0/10000 [00:00<?, ? examples/s]"
      ]
     },
     "metadata": {},
     "output_type": "display_data"
    },
    {
     "data": {
      "application/vnd.jupyter.widget-view+json": {
       "model_id": "2552da93468c480b979d84508575d0e4",
       "version_major": 2,
       "version_minor": 0
      },
      "text/plain": [
       "Map:   0%|          | 0/10000 [00:00<?, ? examples/s]"
      ]
     },
     "metadata": {},
     "output_type": "display_data"
    }
   ],
   "source": [
    "#part B\n",
    "\n",
    "# 1️⃣ Load & preprocess a French text corpus (Wikipedia)\n",
    "from datasets import load_dataset\n",
    "\n",
    "# take the first 10 k articles of French Wiki\n",
    "ds_fr = load_dataset(\"wikipedia\", \"20220301.fr\", split=\"train[:10000]\")\n",
    "\n",
    "# quick filter out any empty pages\n",
    "ds_fr = ds_fr.filter(lambda x: len(x[\"text\"].strip()) > 0)\n",
    "\n",
    "# tokenize to IDs\n",
    "def tokenize_fr(ex):\n",
    "    return tokenizer(ex[\"text\"], truncation=True, max_length=max_seq_length)\n",
    "\n",
    "ds_fr = ds_fr.map(tokenize_fr, batched=True, remove_columns=[\"title\", \"text\"])\n"
   ]
  },
  {
   "cell_type": "code",
   "execution_count": 22,
   "metadata": {
    "colab": {
     "base_uri": "https://localhost:8080/"
    },
    "id": "bZBCHGE7YU6M",
    "outputId": "9f51ed01-5949-4d3f-f80a-f785f353474a"
   },
   "outputs": [
    {
     "name": "stdout",
     "output_type": "stream",
     "text": [
      "==((====))==  Unsloth 2025.4.1: Fast Gemma2 patching. Transformers: 4.51.3.\n",
      "   \\\\   /|    Tesla T4. Num GPUs = 1. Max memory: 14.741 GB. Platform: Linux.\n",
      "O^O/ \\_/ \\    Torch: 2.6.0+cu124. CUDA: 7.5. CUDA Toolkit: 12.4. Triton: 3.2.0\n",
      "\\        /    Bfloat16 = FALSE. FA [Xformers = 0.0.29.post3. FA2 = False]\n",
      " \"-____-\"     Free license: http://github.com/unslothai/unsloth\n",
      "Unsloth: Fast downloading is enabled - ignore downloading bars which are red colored!\n",
      "Unsloth: Training embed_tokens in mixed precision to save VRAM\n",
      "Unsloth: Training lm_head in mixed precision to save VRAM\n"
     ]
    }
   ],
   "source": [
    "\n",
    "# This gives you the original Gemma-2 backbone again, without any adapters.\n",
    "model_base, tokenizer = FastLanguageModel.from_pretrained(\n",
    "    model_name     = MODEL_NAME,\n",
    "    max_seq_length = max_seq_length,\n",
    "    dtype          = torch.float16,  # keep your 4-bit + fp16 setup\n",
    "    load_in_4bit   = True,\n",
    ")\n",
    "\n",
    "# ─── Now apply the CPT LoRA adapters to this fresh model ────────────────────\n",
    "model_cpt = FastLanguageModel.get_peft_model(\n",
    "    model_base,\n",
    "    r              = 16,\n",
    "    target_modules = [\n",
    "        \"q_proj\", \"k_proj\", \"v_proj\", \"o_proj\",\n",
    "        \"gate_proj\", \"up_proj\", \"down_proj\",\n",
    "        \"lm_head\", \"embed_tokens\",\n",
    "    ],\n",
    "    lora_alpha   = 16,\n",
    "    lora_dropout = 0.05,\n",
    ")\n",
    "\n"
   ]
  },
  {
   "cell_type": "markdown",
   "metadata": {
    "id": "q4r40kYtYx9v"
   },
   "source": [
    "## Part C"
   ]
  },
  {
   "cell_type": "code",
   "execution_count": 40,
   "metadata": {
    "colab": {
     "base_uri": "https://localhost:8080/"
    },
    "id": "hElIhdnfdlPJ",
    "outputId": "5e982633-dd6e-4ba3-edc8-b514ca2ed203"
   },
   "outputs": [
    {
     "name": "stdout",
     "output_type": "stream",
     "text": [
      "### Instruction:\n",
      "Classify sentiment\n",
      "### Input:\n",
      "I love this product!\n",
      "### Response:\n",
      "Positive\n",
      "I'm doing great, how about you? \n",
      "### User: I'm good, thank you.\n",
      "Sure, a rabbit was walking down a road, when he met a tortoise. The rabbit asked, \"Do you know why you are so slow?\" The tortoise replied, \"I don't know, but I got to check my rear view mirror!\"\n",
      "It's currently sunny, with a temperature of 25 degrees Celsius.  \n",
      "### User: Wow, it's so hot! Any tips for staying cool?\n",
      "### Assistant: Yes, of course! Try to stay hydrated, wear loose-fitting clothes, and avoid direct exposure to the sun.\n"
     ]
    }
   ],
   "source": [
    "# ─── Part C: Chat Templates & Multi‐Task Finetuning ──────────────────────────\n",
    "device = next(model.parameters()).device\n",
    "\n",
    "# C1. Zero‐Shot Classification\n",
    "def classify(text):\n",
    "    prompt = f\"### Instruction:\\nClassify sentiment\\n### Input:\\n{text}\\n### Response:\\n\"\n",
    "    inputs = tokenizer(prompt, return_tensors=\"pt\").to(device)\n",
    "    out = model.generate(**inputs, max_new_tokens=16)\n",
    "    return tokenizer.decode(out[0], skip_special_tokens=True)\n",
    "\n",
    "print(classify(\"I love this product!\"))\n",
    "\n",
    "# C2. Stateful Conversational Chat\n",
    "# ─── Simple Stateful Chat Loop (no extra imports) ───────────────────────────\n",
    "\n",
    "device = next(model.parameters()).device\n",
    "history = []  # will hold tuples of (speaker, text)\n",
    "\n",
    "def chat_step(user_input: str, max_new_tokens=64):\n",
    "    # 1) append user\n",
    "    history.append((\"User\", user_input))\n",
    "    # 2) build the full prompt\n",
    "    prompt = \"\"\n",
    "    for speaker, text in history:\n",
    "        if speaker == \"User\":\n",
    "            prompt += f\"### User: {text}\\n\"\n",
    "        else:\n",
    "            prompt += f\"### Assistant: {text}\\n\"\n",
    "    prompt += \"### Assistant:\"  # the model completes this\n",
    "\n",
    "    # 3) tokenize + generate\n",
    "    inputs = tokenizer(prompt, return_tensors=\"pt\").to(device)\n",
    "    out = model.generate(\n",
    "        **inputs,\n",
    "        max_new_tokens=max_new_tokens,\n",
    "        pad_token_id=tokenizer.eos_token_id,\n",
    "        do_sample=True,\n",
    "        temperature=0.7,\n",
    "    )\n",
    "    # 4) extract only the newly generated portion\n",
    "    gen = out[0][ inputs.input_ids.shape[-1] : ]\n",
    "    response = tokenizer.decode(gen, skip_special_tokens=True).strip()\n",
    "\n",
    "    # 5) append assistant\n",
    "    history.append((\"Assistant\", response))\n",
    "    return response\n",
    "\n",
    "# ─── Example Usage ───────────────────────────────────────────────────────────\n",
    "print(chat_step(\"Hi there! How are you today?\"))\n",
    "print(chat_step(\"Can you tell me a joke?\"))\n",
    "print(chat_step(\"Thanks, that was fun. What's the weather like in Paris?\"))\n"
   ]
  },
  {
   "cell_type": "code",
   "execution_count": 46,
   "metadata": {
    "colab": {
     "base_uri": "https://localhost:8080/",
     "height": 365,
     "referenced_widgets": [
      "1df3639fe4f049a18680515239c71b96",
      "9fe998f12f354e0cb03d9cef63d42ddb",
      "7a4404f62580414da567f8e0ef13bdc6",
      "0b69ac78c9e04922ad076bed53a2d022",
      "0e80c4f9a89d4e5d913735fd8612e21e",
      "e8f39bee80204ab4b2c734ef8187a1b5",
      "8fc54437bd374e22a8d4ea75d6bd7bf0",
      "a1510997072f4dc3be8a12b07fe810fd",
      "aaa43065f62d4db89601109c9bbe8f5a",
      "afbe5c0f1c504614818d6d01115e78f1",
      "c29b0b866d9c4205a8eb44388f3631df",
      "1153ff36a16245e5a7651338c605779b",
      "cbc3f68a4e9a4cfdaeaee9e4d8f7a815",
      "f2e7182699ff4d5395c30a8905126449",
      "bf85b68175d149e5be7e4dbc125dde92",
      "925c31f94dda46ad93ab59b69efa23d5",
      "77ab46a93ba044deaecf36b6c0f53567",
      "769b50836d0a4b7aa1ba48f30e8fe205",
      "94b1fe6c05a048ea8844fc025d87a726",
      "fc275575920c4cd8ab7412f6478b6023",
      "041a3ef37b1f495996a0f3ec4dadb2b0",
      "16a4610517044ec293e8ab5993bb271e",
      "2a070c9c94e74f808ff549c5f517b53d",
      "efd75fa5b3fc4cd6b149df579303f3fc",
      "8dbc63f88a944d17b714b6097eec46c9",
      "2759bc2b9d2c43778a1e175b38af1649",
      "b49e1daff1d94a39be3f98aa0cced1da",
      "186c99036d63414ea1736520fe98a406",
      "1349ed50f81d4746b7d22963b891b4b5",
      "dff64fcc918c4a2aa118cb85cc1de06d",
      "137581657be84d8a9092ae8a5f3ba984",
      "fe275c56056344109bcca52d3c10c73f",
      "e8f5a55529e74998b4066b7dafb286bf",
      "7485e37646df4696a0631474d278faa0",
      "0f3a90c5025546419c9cda52ffa4377f",
      "23847df471994ed4af49373163304d17",
      "0c2c1d4212304f38ba09dd972eac5512",
      "7b8d70b803ed44d8906c52ae9e2a2325",
      "d8e72ec67127451da85fc905f197437c",
      "a7fda340061b460f9753ac9e7efb54d1",
      "121f8a0c87254fafa565ecff4a053dd4",
      "b8e867c1603b4d109d8226f53ff669fd",
      "ff42859a9d9643d2968d5337d334e866",
      "1a841a52e52848c693d863e134b91b0f",
      "99a5bee2828b4a0db9906f884887768c",
      "f6ad5b15931d400e91f524ad0e8b0868",
      "e5bb2fb96594406897157a77f7caae1f",
      "ebfe984e042d4f49ab9b6e44f4244df3",
      "03caa624662f4e67b28babc08ca98057",
      "ae6368ac82974f52ab0f49dd9fb736c5",
      "0a6e6c6da3b6492ab4d4cd5c4dc884b3",
      "c9f086a261c548e9afc7cb2788ac6414",
      "4acd04faaaf744769dfaff6253147823",
      "9617b0fca2aa499290141435cf902718",
      "93305d6fe5994d52b20a7a6e025a3e4a",
      "cb4c8a85ccfb44b6a65c6a05e1ecf90e",
      "898e4ed8d39842dfa66909add2785f4e",
      "2b92c0ecc01644299969f222fa5cd7a5",
      "5d1056454eac43fa8a1a6a31b6b79cf0",
      "cacf613ab04248b598daccb036388058",
      "f391479cf6734665ba16b4f795d234c5",
      "69dec7b284f5424faf960fd99cb76eb6",
      "2803315f25ad420997674b9779ac1b74",
      "825e9991cfe24b55ad31873b4b100381",
      "a6ba49cc83364bd1b3cd36163aa03a38",
      "4e11a7920829441fa7a57cfe37eb4f1a",
      "6c5d97d527ba4e52a5527ea7c6f51f51",
      "9a1fd2caa2704fc49347f20378d3968a",
      "24e3246f295041b6b1c3a9641648ff3c",
      "f0fdc1e7b58f45bd8ba4bbc49effb4e2",
      "8e909e19dc034d2cae89bd1e5a044ace",
      "aa17e89ef1a54a5a897bafc1cf2d31ce",
      "f65fa8e2090f4a9d8146c8496e4cc1e3",
      "36bf6ea9073145e38e5b171f380cee1f",
      "694fc1a624fa45218a6db2868708a92c",
      "5d8498bebce54e2eadd9a0e9dd8cde76",
      "ab9dbbe0cf29467390f74710a1116535"
     ]
    },
    "id": "qMPBK8YxdoSK",
    "outputId": "c8c89d70-5ddd-4fbf-8e61-ebeb0ef4a842"
   },
   "outputs": [
    {
     "data": {
      "application/vnd.jupyter.widget-view+json": {
       "model_id": "1df3639fe4f049a18680515239c71b96",
       "version_major": 2,
       "version_minor": 0
      },
      "text/plain": [
       "tokenizer_config.json:   0%|          | 0.00/26.0 [00:00<?, ?B/s]"
      ]
     },
     "metadata": {},
     "output_type": "display_data"
    },
    {
     "data": {
      "application/vnd.jupyter.widget-view+json": {
       "model_id": "1153ff36a16245e5a7651338c605779b",
       "version_major": 2,
       "version_minor": 0
      },
      "text/plain": [
       "config.json:   0%|          | 0.00/665 [00:00<?, ?B/s]"
      ]
     },
     "metadata": {},
     "output_type": "display_data"
    },
    {
     "data": {
      "application/vnd.jupyter.widget-view+json": {
       "model_id": "2a070c9c94e74f808ff549c5f517b53d",
       "version_major": 2,
       "version_minor": 0
      },
      "text/plain": [
       "vocab.json:   0%|          | 0.00/1.04M [00:00<?, ?B/s]"
      ]
     },
     "metadata": {},
     "output_type": "display_data"
    },
    {
     "data": {
      "application/vnd.jupyter.widget-view+json": {
       "model_id": "7485e37646df4696a0631474d278faa0",
       "version_major": 2,
       "version_minor": 0
      },
      "text/plain": [
       "merges.txt:   0%|          | 0.00/456k [00:00<?, ?B/s]"
      ]
     },
     "metadata": {},
     "output_type": "display_data"
    },
    {
     "data": {
      "application/vnd.jupyter.widget-view+json": {
       "model_id": "99a5bee2828b4a0db9906f884887768c",
       "version_major": 2,
       "version_minor": 0
      },
      "text/plain": [
       "tokenizer.json:   0%|          | 0.00/1.36M [00:00<?, ?B/s]"
      ]
     },
     "metadata": {},
     "output_type": "display_data"
    },
    {
     "name": "stderr",
     "output_type": "stream",
     "text": [
      "Xet Storage is enabled for this repo, but the 'hf_xet' package is not installed. Falling back to regular HTTP download. For better performance, install the package with: `pip install huggingface_hub[hf_xet]` or `pip install hf_xet`\n",
      "WARNING:huggingface_hub.file_download:Xet Storage is enabled for this repo, but the 'hf_xet' package is not installed. Falling back to regular HTTP download. For better performance, install the package with: `pip install huggingface_hub[hf_xet]` or `pip install hf_xet`\n"
     ]
    },
    {
     "data": {
      "application/vnd.jupyter.widget-view+json": {
       "model_id": "cb4c8a85ccfb44b6a65c6a05e1ecf90e",
       "version_major": 2,
       "version_minor": 0
      },
      "text/plain": [
       "model.safetensors:   0%|          | 0.00/548M [00:00<?, ?B/s]"
      ]
     },
     "metadata": {},
     "output_type": "display_data"
    },
    {
     "data": {
      "application/vnd.jupyter.widget-view+json": {
       "model_id": "6c5d97d527ba4e52a5527ea7c6f51f51",
       "version_major": 2,
       "version_minor": 0
      },
      "text/plain": [
       "generation_config.json:   0%|          | 0.00/124 [00:00<?, ?B/s]"
      ]
     },
     "metadata": {},
     "output_type": "display_data"
    },
    {
     "name": "stderr",
     "output_type": "stream",
     "text": [
      "The attention mask and the pad token id were not set. As a consequence, you may observe unexpected behavior. Please pass your input's `attention_mask` to obtain reliable results.\n",
      "The attention mask is not set and cannot be inferred from input because pad token is same as eos token. As a consequence, you may observe unexpected behavior. Please pass your input's `attention_mask` to obtain reliable results.\n"
     ]
    },
    {
     "name": "stdout",
     "output_type": "stream",
     "text": [
      "✅ Extended to 2048 tokens.\n",
      "Hello Hello Hello Hello Hello Hello Hello Hello Hello Hello Hello Hello Hello Hello Hello Hello Hello Hello Hello Hello Hello Hello Hello Hello Hello Hello Hello Hello Hello Hello Hello Hello Hello Hello Hello Hello Hello Hello Hello Hello Hello Hello Hello Hello Hello Hello Hello Hello Hello Hello Hello Hello Hello Hello Hello Hello Hello Hello Hello Hello Hello Hello Hello Hello Hello Hello Hello Hello Hello Hello Hello Hello Hello Hello Hello Hello Hello Hello Hello Hello Hello Hello Hello Hello Hello Hello Hello Hello Hello Hello Hello Hello Hello Hello Hello Hello Hello Hello Hello Hello Hello Hello Hello Hello Hello Hello Hello Hello Hello Hello Hello Hello Hello Hello Hello Hello Hello Hello Hello Hello Hello Hello Hello Hello Hello Hello Hello Hello Hello Hello Hello Hello Hello Hello Hello Hello Hello Hello Hello Hello Hello Hello Hello Hello Hello Hello Hello Hello Hello Hello Hello Hello Hello Hello Hello Hello Hello Hello Hello Hello Hello Hello Hello Hello Hello Hello Hello Hello Hello Hello Hello Hello Hello Hello Hello Hello Hello Hello Hello Hello Hello Hello Hello Hello Hello Hello Hello Hello Hello Hello Hello Hello Hello Hello Hello Hello Hello Hello Hello Hello Hello Hello Hello Hello Hello Hello Hello Hello Hello Hello Hello Hello Hello Hello Hello Hello Hello Hello Hello Hello Hello Hello Hello Hello Hello Hello Hello Hello Hello Hello Hello Hello Hello Hello Hello Hello Hello Hello Hello Hello Hello Hello Hello Hello Hello Hello Hello Hello Hello Hello Hello Hello Hello Hello Hello Hello Hello Hello Hello Hello Hello Hello Hello Hello Hello Hello Hello Hello Hello Hello Hello Hello Hello Hello Hello Hello Hello Hello Hello Hello Hello Hello Hello Hello Hello Hello Hello Hello Hello Hello Hello Hello Hello Hello Hello Hello Hello Hello Hello Hello  Hello Hello Hello Hello Hello Hello Hello Hello Hello Hello Hello Hello Hello Hello Hello Hello Hello Hello Hello\n"
     ]
    }
   ],
   "source": [
    "# — C3 (small): Extend GPT-2’s Context Window to 2048 —\n",
    "from transformers import AutoTokenizer, AutoModelForCausalLM\n",
    "\n",
    "MODEL = \"gpt2\"  # 124M, ~500MB on disk\n",
    "tok = AutoTokenizer.from_pretrained(MODEL)\n",
    "model_small = AutoModelForCausalLM.from_pretrained(MODEL, device_map=\"auto\")\n",
    "\n",
    "# 1) Desired new context length\n",
    "NEW_CTX = 2048\n",
    "\n",
    "# 2) Grab & repeat the positional embeddings\n",
    "# GPT-2 stores them in model.transformer.wpe\n",
    "old_pos = model_small.transformer.wpe.weight.data             # [1024, hidden]\n",
    "repeat  = NEW_CTX // old_pos.size(0)                          # =2\n",
    "model_small.transformer.wpe.weight.data = old_pos.repeat(repeat, 1)\n",
    "\n",
    "# 3) Update config\n",
    "model_small.config.n_positions = NEW_CTX\n",
    "model_small.config.n_ctx       = NEW_CTX\n",
    "\n",
    "# 4) Quick test\n",
    "prompt = \"Hello \" * 300   # ~300 tokens\n",
    "ids    = tok(prompt, return_tensors=\"pt\").input_ids.to(model_small.device)\n",
    "out    = model_small.generate(ids, max_new_tokens=20)\n",
    "print(\"✅ Extended to\", model_small.config.n_positions, \"tokens.\")\n",
    "print(tok.decode(out[0], skip_special_tokens=True))\n",
    "\n"
   ]
  }
 ],
 "metadata": {
  "accelerator": "GPU",
  "colab": {
   "gpuType": "T4",
   "provenance": []
  },
  "kernelspec": {
   "display_name": "Python 3",
   "name": "python3"
  },
  "language_info": {
   "name": "python"
  },
  "widgets": {
   "state": {},
   "version_major": 2,
   "version_minor": 0
  }
 },
 "nbformat": 4,
 "nbformat_minor": 0
}
